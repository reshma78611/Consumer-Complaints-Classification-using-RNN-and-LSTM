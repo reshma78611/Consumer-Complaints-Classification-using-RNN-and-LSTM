{
 "cells": [
  {
   "cell_type": "code",
   "execution_count": 1,
   "metadata": {
    "id": "eULzWsUyZtW_"
   },
   "outputs": [],
   "source": [
    "import numpy as np\n",
    "import pandas as pd\n",
    "import matplotlib.pyplot as plt\n",
    "import seaborn as sns"
   ]
  },
  {
   "cell_type": "code",
   "execution_count": 2,
   "metadata": {
    "colab": {
     "base_uri": "https://localhost:8080/"
    },
    "id": "zXslLgauZ3hv",
    "outputId": "4749fa8a-fb79-493e-dc60-cbc6a8437847"
   },
   "outputs": [
    {
     "name": "stderr",
     "output_type": "stream",
     "text": [
      "/usr/local/lib/python3.7/dist-packages/IPython/core/interactiveshell.py:2718: DtypeWarning: Columns (5,11) have mixed types.Specify dtype option on import or set low_memory=False.\n",
      "  interactivity=interactivity, compiler=compiler, result=result)\n"
     ]
    }
   ],
   "source": [
    "data=pd.read_csv('consumer_complaints.csv')"
   ]
  },
  {
   "cell_type": "code",
   "execution_count": 3,
   "metadata": {
    "colab": {
     "base_uri": "https://localhost:8080/",
     "height": 444
    },
    "id": "Ee8yezn2aRSg",
    "outputId": "9ae5c8d1-5c5d-4d28-e3aa-c44ac62244b9"
   },
   "outputs": [
    {
     "data": {
      "text/html": [
       "\n",
       "  <div id=\"df-43eeae72-2ba9-4007-bba2-e8bd4233910c\">\n",
       "    <div class=\"colab-df-container\">\n",
       "      <div>\n",
       "<style scoped>\n",
       "    .dataframe tbody tr th:only-of-type {\n",
       "        vertical-align: middle;\n",
       "    }\n",
       "\n",
       "    .dataframe tbody tr th {\n",
       "        vertical-align: top;\n",
       "    }\n",
       "\n",
       "    .dataframe thead th {\n",
       "        text-align: right;\n",
       "    }\n",
       "</style>\n",
       "<table border=\"1\" class=\"dataframe\">\n",
       "  <thead>\n",
       "    <tr style=\"text-align: right;\">\n",
       "      <th></th>\n",
       "      <th>date_received</th>\n",
       "      <th>product</th>\n",
       "      <th>sub_product</th>\n",
       "      <th>issue</th>\n",
       "      <th>sub_issue</th>\n",
       "      <th>consumer_complaint_narrative</th>\n",
       "      <th>company_public_response</th>\n",
       "      <th>company</th>\n",
       "      <th>state</th>\n",
       "      <th>zipcode</th>\n",
       "      <th>tags</th>\n",
       "      <th>consumer_consent_provided</th>\n",
       "      <th>submitted_via</th>\n",
       "      <th>date_sent_to_company</th>\n",
       "      <th>company_response_to_consumer</th>\n",
       "      <th>timely_response</th>\n",
       "      <th>consumer_disputed?</th>\n",
       "      <th>complaint_id</th>\n",
       "    </tr>\n",
       "  </thead>\n",
       "  <tbody>\n",
       "    <tr>\n",
       "      <th>0</th>\n",
       "      <td>08/30/2013</td>\n",
       "      <td>Mortgage</td>\n",
       "      <td>Other mortgage</td>\n",
       "      <td>Loan modification,collection,foreclosure</td>\n",
       "      <td>NaN</td>\n",
       "      <td>NaN</td>\n",
       "      <td>NaN</td>\n",
       "      <td>U.S. Bancorp</td>\n",
       "      <td>CA</td>\n",
       "      <td>95993</td>\n",
       "      <td>NaN</td>\n",
       "      <td>NaN</td>\n",
       "      <td>Referral</td>\n",
       "      <td>09/03/2013</td>\n",
       "      <td>Closed with explanation</td>\n",
       "      <td>Yes</td>\n",
       "      <td>Yes</td>\n",
       "      <td>511074.0</td>\n",
       "    </tr>\n",
       "    <tr>\n",
       "      <th>1</th>\n",
       "      <td>08/30/2013</td>\n",
       "      <td>Mortgage</td>\n",
       "      <td>Other mortgage</td>\n",
       "      <td>Loan servicing, payments, escrow account</td>\n",
       "      <td>NaN</td>\n",
       "      <td>NaN</td>\n",
       "      <td>NaN</td>\n",
       "      <td>Wells Fargo &amp; Company</td>\n",
       "      <td>CA</td>\n",
       "      <td>91104</td>\n",
       "      <td>NaN</td>\n",
       "      <td>NaN</td>\n",
       "      <td>Referral</td>\n",
       "      <td>09/03/2013</td>\n",
       "      <td>Closed with explanation</td>\n",
       "      <td>Yes</td>\n",
       "      <td>Yes</td>\n",
       "      <td>511080.0</td>\n",
       "    </tr>\n",
       "    <tr>\n",
       "      <th>2</th>\n",
       "      <td>08/30/2013</td>\n",
       "      <td>Credit reporting</td>\n",
       "      <td>NaN</td>\n",
       "      <td>Incorrect information on credit report</td>\n",
       "      <td>Account status</td>\n",
       "      <td>NaN</td>\n",
       "      <td>NaN</td>\n",
       "      <td>Wells Fargo &amp; Company</td>\n",
       "      <td>NY</td>\n",
       "      <td>11764</td>\n",
       "      <td>NaN</td>\n",
       "      <td>NaN</td>\n",
       "      <td>Postal mail</td>\n",
       "      <td>09/18/2013</td>\n",
       "      <td>Closed with explanation</td>\n",
       "      <td>Yes</td>\n",
       "      <td>No</td>\n",
       "      <td>510473.0</td>\n",
       "    </tr>\n",
       "    <tr>\n",
       "      <th>3</th>\n",
       "      <td>08/30/2013</td>\n",
       "      <td>Student loan</td>\n",
       "      <td>Non-federal student loan</td>\n",
       "      <td>Repaying your loan</td>\n",
       "      <td>Repaying your loan</td>\n",
       "      <td>NaN</td>\n",
       "      <td>NaN</td>\n",
       "      <td>Navient Solutions, Inc.</td>\n",
       "      <td>MD</td>\n",
       "      <td>21402</td>\n",
       "      <td>NaN</td>\n",
       "      <td>NaN</td>\n",
       "      <td>Email</td>\n",
       "      <td>08/30/2013</td>\n",
       "      <td>Closed with explanation</td>\n",
       "      <td>Yes</td>\n",
       "      <td>Yes</td>\n",
       "      <td>510326.0</td>\n",
       "    </tr>\n",
       "    <tr>\n",
       "      <th>4</th>\n",
       "      <td>08/30/2013</td>\n",
       "      <td>Debt collection</td>\n",
       "      <td>Credit card</td>\n",
       "      <td>False statements or representation</td>\n",
       "      <td>Attempted to collect wrong amount</td>\n",
       "      <td>NaN</td>\n",
       "      <td>NaN</td>\n",
       "      <td>Resurgent Capital Services L.P.</td>\n",
       "      <td>GA</td>\n",
       "      <td>30106</td>\n",
       "      <td>NaN</td>\n",
       "      <td>NaN</td>\n",
       "      <td>Web</td>\n",
       "      <td>08/30/2013</td>\n",
       "      <td>Closed with explanation</td>\n",
       "      <td>Yes</td>\n",
       "      <td>Yes</td>\n",
       "      <td>511067.0</td>\n",
       "    </tr>\n",
       "  </tbody>\n",
       "</table>\n",
       "</div>\n",
       "      <button class=\"colab-df-convert\" onclick=\"convertToInteractive('df-43eeae72-2ba9-4007-bba2-e8bd4233910c')\"\n",
       "              title=\"Convert this dataframe to an interactive table.\"\n",
       "              style=\"display:none;\">\n",
       "        \n",
       "  <svg xmlns=\"http://www.w3.org/2000/svg\" height=\"24px\"viewBox=\"0 0 24 24\"\n",
       "       width=\"24px\">\n",
       "    <path d=\"M0 0h24v24H0V0z\" fill=\"none\"/>\n",
       "    <path d=\"M18.56 5.44l.94 2.06.94-2.06 2.06-.94-2.06-.94-.94-2.06-.94 2.06-2.06.94zm-11 1L8.5 8.5l.94-2.06 2.06-.94-2.06-.94L8.5 2.5l-.94 2.06-2.06.94zm10 10l.94 2.06.94-2.06 2.06-.94-2.06-.94-.94-2.06-.94 2.06-2.06.94z\"/><path d=\"M17.41 7.96l-1.37-1.37c-.4-.4-.92-.59-1.43-.59-.52 0-1.04.2-1.43.59L10.3 9.45l-7.72 7.72c-.78.78-.78 2.05 0 2.83L4 21.41c.39.39.9.59 1.41.59.51 0 1.02-.2 1.41-.59l7.78-7.78 2.81-2.81c.8-.78.8-2.07 0-2.86zM5.41 20L4 18.59l7.72-7.72 1.47 1.35L5.41 20z\"/>\n",
       "  </svg>\n",
       "      </button>\n",
       "      \n",
       "  <style>\n",
       "    .colab-df-container {\n",
       "      display:flex;\n",
       "      flex-wrap:wrap;\n",
       "      gap: 12px;\n",
       "    }\n",
       "\n",
       "    .colab-df-convert {\n",
       "      background-color: #E8F0FE;\n",
       "      border: none;\n",
       "      border-radius: 50%;\n",
       "      cursor: pointer;\n",
       "      display: none;\n",
       "      fill: #1967D2;\n",
       "      height: 32px;\n",
       "      padding: 0 0 0 0;\n",
       "      width: 32px;\n",
       "    }\n",
       "\n",
       "    .colab-df-convert:hover {\n",
       "      background-color: #E2EBFA;\n",
       "      box-shadow: 0px 1px 2px rgba(60, 64, 67, 0.3), 0px 1px 3px 1px rgba(60, 64, 67, 0.15);\n",
       "      fill: #174EA6;\n",
       "    }\n",
       "\n",
       "    [theme=dark] .colab-df-convert {\n",
       "      background-color: #3B4455;\n",
       "      fill: #D2E3FC;\n",
       "    }\n",
       "\n",
       "    [theme=dark] .colab-df-convert:hover {\n",
       "      background-color: #434B5C;\n",
       "      box-shadow: 0px 1px 3px 1px rgba(0, 0, 0, 0.15);\n",
       "      filter: drop-shadow(0px 1px 2px rgba(0, 0, 0, 0.3));\n",
       "      fill: #FFFFFF;\n",
       "    }\n",
       "  </style>\n",
       "\n",
       "      <script>\n",
       "        const buttonEl =\n",
       "          document.querySelector('#df-43eeae72-2ba9-4007-bba2-e8bd4233910c button.colab-df-convert');\n",
       "        buttonEl.style.display =\n",
       "          google.colab.kernel.accessAllowed ? 'block' : 'none';\n",
       "\n",
       "        async function convertToInteractive(key) {\n",
       "          const element = document.querySelector('#df-43eeae72-2ba9-4007-bba2-e8bd4233910c');\n",
       "          const dataTable =\n",
       "            await google.colab.kernel.invokeFunction('convertToInteractive',\n",
       "                                                     [key], {});\n",
       "          if (!dataTable) return;\n",
       "\n",
       "          const docLinkHtml = 'Like what you see? Visit the ' +\n",
       "            '<a target=\"_blank\" href=https://colab.research.google.com/notebooks/data_table.ipynb>data table notebook</a>'\n",
       "            + ' to learn more about interactive tables.';\n",
       "          element.innerHTML = '';\n",
       "          dataTable['output_type'] = 'display_data';\n",
       "          await google.colab.output.renderOutput(dataTable, element);\n",
       "          const docLink = document.createElement('div');\n",
       "          docLink.innerHTML = docLinkHtml;\n",
       "          element.appendChild(docLink);\n",
       "        }\n",
       "      </script>\n",
       "    </div>\n",
       "  </div>\n",
       "  "
      ],
      "text/plain": [
       "  date_received           product  ... consumer_disputed? complaint_id\n",
       "0    08/30/2013          Mortgage  ...                Yes     511074.0\n",
       "1    08/30/2013          Mortgage  ...                Yes     511080.0\n",
       "2    08/30/2013  Credit reporting  ...                 No     510473.0\n",
       "3    08/30/2013      Student loan  ...                Yes     510326.0\n",
       "4    08/30/2013   Debt collection  ...                Yes     511067.0\n",
       "\n",
       "[5 rows x 18 columns]"
      ]
     },
     "execution_count": 3,
     "metadata": {},
     "output_type": "execute_result"
    }
   ],
   "source": [
    "data.head()"
   ]
  },
  {
   "cell_type": "code",
   "execution_count": 4,
   "metadata": {
    "colab": {
     "base_uri": "https://localhost:8080/"
    },
    "id": "uaU2sOOBaRVU",
    "outputId": "82d4c797-a5be-42f3-a49a-6a75ac2bfc76"
   },
   "outputs": [
    {
     "data": {
      "text/plain": [
       "(383538, 18)"
      ]
     },
     "execution_count": 4,
     "metadata": {},
     "output_type": "execute_result"
    }
   ],
   "source": [
    "data.shape"
   ]
  },
  {
   "cell_type": "code",
   "execution_count": 5,
   "metadata": {
    "colab": {
     "base_uri": "https://localhost:8080/"
    },
    "id": "Uvx5dqJcaRYI",
    "outputId": "6a15283d-85d1-4e32-be92-455558ccabeb"
   },
   "outputs": [
    {
     "data": {
      "text/plain": [
       "Index(['date_received', 'product', 'sub_product', 'issue', 'sub_issue',\n",
       "       'consumer_complaint_narrative', 'company_public_response', 'company',\n",
       "       'state', 'zipcode', 'tags', 'consumer_consent_provided',\n",
       "       'submitted_via', 'date_sent_to_company', 'company_response_to_consumer',\n",
       "       'timely_response', 'consumer_disputed?', 'complaint_id'],\n",
       "      dtype='object')"
      ]
     },
     "execution_count": 5,
     "metadata": {},
     "output_type": "execute_result"
    }
   ],
   "source": [
    "data.columns"
   ]
  },
  {
   "cell_type": "code",
   "execution_count": 6,
   "metadata": {
    "colab": {
     "base_uri": "https://localhost:8080/",
     "height": 206
    },
    "id": "GLhWJJ6UaRay",
    "outputId": "cd7fc23b-42bf-4ef4-d968-43f4e2b0031a"
   },
   "outputs": [
    {
     "data": {
      "text/html": [
       "\n",
       "  <div id=\"df-fc1c0f4b-9b0d-4702-8100-1d0d9b952c72\">\n",
       "    <div class=\"colab-df-container\">\n",
       "      <div>\n",
       "<style scoped>\n",
       "    .dataframe tbody tr th:only-of-type {\n",
       "        vertical-align: middle;\n",
       "    }\n",
       "\n",
       "    .dataframe tbody tr th {\n",
       "        vertical-align: top;\n",
       "    }\n",
       "\n",
       "    .dataframe thead th {\n",
       "        text-align: right;\n",
       "    }\n",
       "</style>\n",
       "<table border=\"1\" class=\"dataframe\">\n",
       "  <thead>\n",
       "    <tr style=\"text-align: right;\">\n",
       "      <th></th>\n",
       "      <th>consumer_complaint_narrative</th>\n",
       "      <th>product</th>\n",
       "    </tr>\n",
       "  </thead>\n",
       "  <tbody>\n",
       "    <tr>\n",
       "      <th>0</th>\n",
       "      <td>NaN</td>\n",
       "      <td>Mortgage</td>\n",
       "    </tr>\n",
       "    <tr>\n",
       "      <th>1</th>\n",
       "      <td>NaN</td>\n",
       "      <td>Mortgage</td>\n",
       "    </tr>\n",
       "    <tr>\n",
       "      <th>2</th>\n",
       "      <td>NaN</td>\n",
       "      <td>Credit reporting</td>\n",
       "    </tr>\n",
       "    <tr>\n",
       "      <th>3</th>\n",
       "      <td>NaN</td>\n",
       "      <td>Student loan</td>\n",
       "    </tr>\n",
       "    <tr>\n",
       "      <th>4</th>\n",
       "      <td>NaN</td>\n",
       "      <td>Debt collection</td>\n",
       "    </tr>\n",
       "  </tbody>\n",
       "</table>\n",
       "</div>\n",
       "      <button class=\"colab-df-convert\" onclick=\"convertToInteractive('df-fc1c0f4b-9b0d-4702-8100-1d0d9b952c72')\"\n",
       "              title=\"Convert this dataframe to an interactive table.\"\n",
       "              style=\"display:none;\">\n",
       "        \n",
       "  <svg xmlns=\"http://www.w3.org/2000/svg\" height=\"24px\"viewBox=\"0 0 24 24\"\n",
       "       width=\"24px\">\n",
       "    <path d=\"M0 0h24v24H0V0z\" fill=\"none\"/>\n",
       "    <path d=\"M18.56 5.44l.94 2.06.94-2.06 2.06-.94-2.06-.94-.94-2.06-.94 2.06-2.06.94zm-11 1L8.5 8.5l.94-2.06 2.06-.94-2.06-.94L8.5 2.5l-.94 2.06-2.06.94zm10 10l.94 2.06.94-2.06 2.06-.94-2.06-.94-.94-2.06-.94 2.06-2.06.94z\"/><path d=\"M17.41 7.96l-1.37-1.37c-.4-.4-.92-.59-1.43-.59-.52 0-1.04.2-1.43.59L10.3 9.45l-7.72 7.72c-.78.78-.78 2.05 0 2.83L4 21.41c.39.39.9.59 1.41.59.51 0 1.02-.2 1.41-.59l7.78-7.78 2.81-2.81c.8-.78.8-2.07 0-2.86zM5.41 20L4 18.59l7.72-7.72 1.47 1.35L5.41 20z\"/>\n",
       "  </svg>\n",
       "      </button>\n",
       "      \n",
       "  <style>\n",
       "    .colab-df-container {\n",
       "      display:flex;\n",
       "      flex-wrap:wrap;\n",
       "      gap: 12px;\n",
       "    }\n",
       "\n",
       "    .colab-df-convert {\n",
       "      background-color: #E8F0FE;\n",
       "      border: none;\n",
       "      border-radius: 50%;\n",
       "      cursor: pointer;\n",
       "      display: none;\n",
       "      fill: #1967D2;\n",
       "      height: 32px;\n",
       "      padding: 0 0 0 0;\n",
       "      width: 32px;\n",
       "    }\n",
       "\n",
       "    .colab-df-convert:hover {\n",
       "      background-color: #E2EBFA;\n",
       "      box-shadow: 0px 1px 2px rgba(60, 64, 67, 0.3), 0px 1px 3px 1px rgba(60, 64, 67, 0.15);\n",
       "      fill: #174EA6;\n",
       "    }\n",
       "\n",
       "    [theme=dark] .colab-df-convert {\n",
       "      background-color: #3B4455;\n",
       "      fill: #D2E3FC;\n",
       "    }\n",
       "\n",
       "    [theme=dark] .colab-df-convert:hover {\n",
       "      background-color: #434B5C;\n",
       "      box-shadow: 0px 1px 3px 1px rgba(0, 0, 0, 0.15);\n",
       "      filter: drop-shadow(0px 1px 2px rgba(0, 0, 0, 0.3));\n",
       "      fill: #FFFFFF;\n",
       "    }\n",
       "  </style>\n",
       "\n",
       "      <script>\n",
       "        const buttonEl =\n",
       "          document.querySelector('#df-fc1c0f4b-9b0d-4702-8100-1d0d9b952c72 button.colab-df-convert');\n",
       "        buttonEl.style.display =\n",
       "          google.colab.kernel.accessAllowed ? 'block' : 'none';\n",
       "\n",
       "        async function convertToInteractive(key) {\n",
       "          const element = document.querySelector('#df-fc1c0f4b-9b0d-4702-8100-1d0d9b952c72');\n",
       "          const dataTable =\n",
       "            await google.colab.kernel.invokeFunction('convertToInteractive',\n",
       "                                                     [key], {});\n",
       "          if (!dataTable) return;\n",
       "\n",
       "          const docLinkHtml = 'Like what you see? Visit the ' +\n",
       "            '<a target=\"_blank\" href=https://colab.research.google.com/notebooks/data_table.ipynb>data table notebook</a>'\n",
       "            + ' to learn more about interactive tables.';\n",
       "          element.innerHTML = '';\n",
       "          dataTable['output_type'] = 'display_data';\n",
       "          await google.colab.output.renderOutput(dataTable, element);\n",
       "          const docLink = document.createElement('div');\n",
       "          docLink.innerHTML = docLinkHtml;\n",
       "          element.appendChild(docLink);\n",
       "        }\n",
       "      </script>\n",
       "    </div>\n",
       "  </div>\n",
       "  "
      ],
      "text/plain": [
       "  consumer_complaint_narrative           product\n",
       "0                          NaN          Mortgage\n",
       "1                          NaN          Mortgage\n",
       "2                          NaN  Credit reporting\n",
       "3                          NaN      Student loan\n",
       "4                          NaN   Debt collection"
      ]
     },
     "execution_count": 6,
     "metadata": {},
     "output_type": "execute_result"
    }
   ],
   "source": [
    "df=data[['consumer_complaint_narrative','product']]\n",
    "df.head()"
   ]
  },
  {
   "cell_type": "code",
   "execution_count": 7,
   "metadata": {
    "colab": {
     "base_uri": "https://localhost:8080/"
    },
    "id": "E5MXjOrDaRdu",
    "outputId": "92e0fbe4-5efa-4918-fb4c-174a00d7d7aa"
   },
   "outputs": [
    {
     "data": {
      "text/plain": [
       "consumer_complaint_narrative    334222\n",
       "product                              0\n",
       "dtype: int64"
      ]
     },
     "execution_count": 7,
     "metadata": {},
     "output_type": "execute_result"
    }
   ],
   "source": [
    "df.isna().sum()"
   ]
  },
  {
   "cell_type": "code",
   "execution_count": 8,
   "metadata": {
    "colab": {
     "base_uri": "https://localhost:8080/"
    },
    "id": "emQnTYlfaRgg",
    "outputId": "59883410-163a-4936-932a-fe33b0d725c3"
   },
   "outputs": [
    {
     "name": "stderr",
     "output_type": "stream",
     "text": [
      "/usr/local/lib/python3.7/dist-packages/ipykernel_launcher.py:1: SettingWithCopyWarning: \n",
      "A value is trying to be set on a copy of a slice from a DataFrame\n",
      "\n",
      "See the caveats in the documentation: https://pandas.pydata.org/pandas-docs/stable/user_guide/indexing.html#returning-a-view-versus-a-copy\n",
      "  \"\"\"Entry point for launching an IPython kernel.\n"
     ]
    }
   ],
   "source": [
    "df.dropna(inplace=True)\n",
    "df.reset_index(drop=True,inplace=True)"
   ]
  },
  {
   "cell_type": "code",
   "execution_count": 9,
   "metadata": {
    "colab": {
     "base_uri": "https://localhost:8080/"
    },
    "id": "8YEXrM6caR3Z",
    "outputId": "a309f7f9-634f-4acb-9cb9-24ee07087465"
   },
   "outputs": [
    {
     "data": {
      "text/plain": [
       "(49316, 2)"
      ]
     },
     "execution_count": 9,
     "metadata": {},
     "output_type": "execute_result"
    }
   ],
   "source": [
    "df.shape"
   ]
  },
  {
   "cell_type": "code",
   "execution_count": 10,
   "metadata": {
    "colab": {
     "base_uri": "https://localhost:8080/"
    },
    "id": "FnnXJ323aR5s",
    "outputId": "5ef0709f-5a01-4861-84ad-066f56eebee7"
   },
   "outputs": [
    {
     "data": {
      "text/plain": [
       "False    48479\n",
       "True       837\n",
       "dtype: int64"
      ]
     },
     "execution_count": 10,
     "metadata": {},
     "output_type": "execute_result"
    }
   ],
   "source": [
    "df.duplicated().value_counts()"
   ]
  },
  {
   "cell_type": "code",
   "execution_count": 11,
   "metadata": {
    "colab": {
     "base_uri": "https://localhost:8080/"
    },
    "id": "ELWoDpOOaR8l",
    "outputId": "621ed09c-68a8-4813-efeb-28ebb098afc9"
   },
   "outputs": [
    {
     "name": "stderr",
     "output_type": "stream",
     "text": [
      "/usr/local/lib/python3.7/dist-packages/ipykernel_launcher.py:1: SettingWithCopyWarning: \n",
      "A value is trying to be set on a copy of a slice from a DataFrame\n",
      "\n",
      "See the caveats in the documentation: https://pandas.pydata.org/pandas-docs/stable/user_guide/indexing.html#returning-a-view-versus-a-copy\n",
      "  \"\"\"Entry point for launching an IPython kernel.\n"
     ]
    }
   ],
   "source": [
    "df.drop_duplicates(inplace=True,ignore_index=True)\n",
    "df.reset_index(drop=True,inplace=True)"
   ]
  },
  {
   "cell_type": "code",
   "execution_count": 12,
   "metadata": {
    "colab": {
     "base_uri": "https://localhost:8080/"
    },
    "id": "FllNDShh4dWV",
    "outputId": "6de06f99-ab46-4618-9f38-e224d6cfc8e4"
   },
   "outputs": [
    {
     "data": {
      "text/plain": [
       "(48479, 2)"
      ]
     },
     "execution_count": 12,
     "metadata": {},
     "output_type": "execute_result"
    }
   ],
   "source": [
    "df.shape"
   ]
  },
  {
   "cell_type": "code",
   "execution_count": 13,
   "metadata": {
    "colab": {
     "base_uri": "https://localhost:8080/"
    },
    "id": "sDUVq8aaaR_w",
    "outputId": "81ab8003-b1a7-4fba-9fd7-6e6c4adfe27c"
   },
   "outputs": [
    {
     "data": {
      "text/plain": [
       "Debt collection            13125\n",
       "Mortgage                   11128\n",
       "Credit reporting            8798\n",
       "Credit card                 5632\n",
       "Bank account or service     4044\n",
       "Consumer Loan               2644\n",
       "Student loan                1648\n",
       "Payday loan                  543\n",
       "Money transfers              499\n",
       "Prepaid card                 341\n",
       "Other financial service       77\n",
       "Name: product, dtype: int64"
      ]
     },
     "execution_count": 13,
     "metadata": {},
     "output_type": "execute_result"
    }
   ],
   "source": [
    "df['product'].value_counts()"
   ]
  },
  {
   "cell_type": "code",
   "execution_count": 14,
   "metadata": {
    "colab": {
     "base_uri": "https://localhost:8080/"
    },
    "id": "y_-fHb7qaSCm",
    "outputId": "e1046883-37c5-4020-bdcb-0d2c1903dfc3"
   },
   "outputs": [
    {
     "name": "stderr",
     "output_type": "stream",
     "text": [
      "/usr/local/lib/python3.7/dist-packages/ipykernel_launcher.py:2: SettingWithCopyWarning: \n",
      "A value is trying to be set on a copy of a slice from a DataFrame\n",
      "\n",
      "See the caveats in the documentation: https://pandas.pydata.org/pandas-docs/stable/user_guide/indexing.html#returning-a-view-versus-a-copy\n",
      "  \n",
      "/usr/local/lib/python3.7/dist-packages/ipykernel_launcher.py:5: SettingWithCopyWarning: \n",
      "A value is trying to be set on a copy of a slice from a DataFrame\n",
      "\n",
      "See the caveats in the documentation: https://pandas.pydata.org/pandas-docs/stable/user_guide/indexing.html#returning-a-view-versus-a-copy\n",
      "  \"\"\"\n",
      "/usr/local/lib/python3.7/dist-packages/ipykernel_launcher.py:8: SettingWithCopyWarning: \n",
      "A value is trying to be set on a copy of a slice from a DataFrame\n",
      "\n",
      "See the caveats in the documentation: https://pandas.pydata.org/pandas-docs/stable/user_guide/indexing.html#returning-a-view-versus-a-copy\n",
      "  \n",
      "/usr/local/lib/python3.7/dist-packages/ipykernel_launcher.py:11: SettingWithCopyWarning: \n",
      "A value is trying to be set on a copy of a slice from a DataFrame\n",
      "\n",
      "See the caveats in the documentation: https://pandas.pydata.org/pandas-docs/stable/user_guide/indexing.html#returning-a-view-versus-a-copy\n",
      "  # This is added back by InteractiveShellApp.init_path()\n",
      "/usr/local/lib/python3.7/dist-packages/pandas/core/frame.py:4174: SettingWithCopyWarning: \n",
      "A value is trying to be set on a copy of a slice from a DataFrame\n",
      "\n",
      "See the caveats in the documentation: https://pandas.pydata.org/pandas-docs/stable/user_guide/indexing.html#returning-a-view-versus-a-copy\n",
      "  errors=errors,\n"
     ]
    }
   ],
   "source": [
    "df['product'].loc[(df['product'] == \"Credit reporting\") | (df['product'] == \"Credit reporting, credit repair services, or other personal consumer reports\") | \n",
    "         (df['product'] == \"Credit card\") | (df['product'] == \"Credit card or prepaid card\") | (df['product'] == \"Prepaid card\")] = \"Credit Card Related\"\n",
    "\n",
    "df['product'].loc[(df['product'] == \"Student loan\") | (df['product'] == \"Consumer Loan\") | \n",
    "         (df['product'] == \"Vehicle loan or lease\") | (df['product'] == \"Payday loan\") | (df['product'] == \"Payday loan, title loan, or personal loan\")] = \"Loan Related\"\n",
    "\n",
    "df['product'].loc[(df['product']== \"Bank account or service\") | (df['product'] == \"Checking or savings account\") | \n",
    "         (df['product'] == \"Money transfer, virtual currency, or money service\") | (df['product'] == \"Money transfers\")] = \"Bank Services\"\n",
    "\n",
    "df['product'].loc[(df['product'] == \"Debt collection\") | (df['product']== \"Mortgage\") | \n",
    "         (df['product'] == \"Virtual currency\") | (df['product'] == \"Other financial service\") | (df['product'] == \"Prepaid card\")] = \"Others Services\"\n",
    "\n",
    "df.reset_index(inplace = True)\n",
    "df.drop('index',axis='columns', inplace=True)\n"
   ]
  },
  {
   "cell_type": "code",
   "execution_count": 15,
   "metadata": {
    "colab": {
     "base_uri": "https://localhost:8080/"
    },
    "id": "B245vnoxaSFJ",
    "outputId": "092c7078-1dbc-4323-9bb4-8f756ef19370"
   },
   "outputs": [
    {
     "data": {
      "text/plain": [
       "Others Services        24330\n",
       "Credit Card Related    14771\n",
       "Loan Related            4835\n",
       "Bank Services           4543\n",
       "Name: product, dtype: int64"
      ]
     },
     "execution_count": 15,
     "metadata": {},
     "output_type": "execute_result"
    }
   ],
   "source": [
    "df['product'].value_counts()"
   ]
  },
  {
   "cell_type": "code",
   "execution_count": 16,
   "metadata": {
    "colab": {
     "base_uri": "https://localhost:8080/"
    },
    "id": "8c8E-aF64oXh",
    "outputId": "abdae3c3-790e-40bf-d9be-b7fb4c5782f9"
   },
   "outputs": [
    {
     "data": {
      "text/plain": [
       "(48479, 2)"
      ]
     },
     "execution_count": 16,
     "metadata": {},
     "output_type": "execute_result"
    }
   ],
   "source": [
    "df.shape"
   ]
  },
  {
   "cell_type": "code",
   "execution_count": 17,
   "metadata": {
    "colab": {
     "base_uri": "https://localhost:8080/",
     "height": 206
    },
    "id": "0KBZiWpzaSIV",
    "outputId": "ef307ad1-5c68-40a0-dd75-0ea73ad7321c"
   },
   "outputs": [
    {
     "data": {
      "text/html": [
       "\n",
       "  <div id=\"df-d01a7c4b-22f8-44f7-94c2-3b8beb45d4df\">\n",
       "    <div class=\"colab-df-container\">\n",
       "      <div>\n",
       "<style scoped>\n",
       "    .dataframe tbody tr th:only-of-type {\n",
       "        vertical-align: middle;\n",
       "    }\n",
       "\n",
       "    .dataframe tbody tr th {\n",
       "        vertical-align: top;\n",
       "    }\n",
       "\n",
       "    .dataframe thead th {\n",
       "        text-align: right;\n",
       "    }\n",
       "</style>\n",
       "<table border=\"1\" class=\"dataframe\">\n",
       "  <thead>\n",
       "    <tr style=\"text-align: right;\">\n",
       "      <th></th>\n",
       "      <th>consumer_complaint_narrative</th>\n",
       "      <th>product</th>\n",
       "    </tr>\n",
       "  </thead>\n",
       "  <tbody>\n",
       "    <tr>\n",
       "      <th>0</th>\n",
       "      <td>XXXX has claimed I owe them {$27.00} for XXXX ...</td>\n",
       "      <td>Others Services</td>\n",
       "    </tr>\n",
       "    <tr>\n",
       "      <th>1</th>\n",
       "      <td>Due to inconsistencies in the amount owed that...</td>\n",
       "      <td>Loan Related</td>\n",
       "    </tr>\n",
       "    <tr>\n",
       "      <th>2</th>\n",
       "      <td>In XX/XX/XXXX my wages that I earned at my job...</td>\n",
       "      <td>Others Services</td>\n",
       "    </tr>\n",
       "    <tr>\n",
       "      <th>3</th>\n",
       "      <td>I have an open and current mortgage with Chase...</td>\n",
       "      <td>Others Services</td>\n",
       "    </tr>\n",
       "    <tr>\n",
       "      <th>4</th>\n",
       "      <td>XXXX was submitted XX/XX/XXXX. At the time I s...</td>\n",
       "      <td>Others Services</td>\n",
       "    </tr>\n",
       "  </tbody>\n",
       "</table>\n",
       "</div>\n",
       "      <button class=\"colab-df-convert\" onclick=\"convertToInteractive('df-d01a7c4b-22f8-44f7-94c2-3b8beb45d4df')\"\n",
       "              title=\"Convert this dataframe to an interactive table.\"\n",
       "              style=\"display:none;\">\n",
       "        \n",
       "  <svg xmlns=\"http://www.w3.org/2000/svg\" height=\"24px\"viewBox=\"0 0 24 24\"\n",
       "       width=\"24px\">\n",
       "    <path d=\"M0 0h24v24H0V0z\" fill=\"none\"/>\n",
       "    <path d=\"M18.56 5.44l.94 2.06.94-2.06 2.06-.94-2.06-.94-.94-2.06-.94 2.06-2.06.94zm-11 1L8.5 8.5l.94-2.06 2.06-.94-2.06-.94L8.5 2.5l-.94 2.06-2.06.94zm10 10l.94 2.06.94-2.06 2.06-.94-2.06-.94-.94-2.06-.94 2.06-2.06.94z\"/><path d=\"M17.41 7.96l-1.37-1.37c-.4-.4-.92-.59-1.43-.59-.52 0-1.04.2-1.43.59L10.3 9.45l-7.72 7.72c-.78.78-.78 2.05 0 2.83L4 21.41c.39.39.9.59 1.41.59.51 0 1.02-.2 1.41-.59l7.78-7.78 2.81-2.81c.8-.78.8-2.07 0-2.86zM5.41 20L4 18.59l7.72-7.72 1.47 1.35L5.41 20z\"/>\n",
       "  </svg>\n",
       "      </button>\n",
       "      \n",
       "  <style>\n",
       "    .colab-df-container {\n",
       "      display:flex;\n",
       "      flex-wrap:wrap;\n",
       "      gap: 12px;\n",
       "    }\n",
       "\n",
       "    .colab-df-convert {\n",
       "      background-color: #E8F0FE;\n",
       "      border: none;\n",
       "      border-radius: 50%;\n",
       "      cursor: pointer;\n",
       "      display: none;\n",
       "      fill: #1967D2;\n",
       "      height: 32px;\n",
       "      padding: 0 0 0 0;\n",
       "      width: 32px;\n",
       "    }\n",
       "\n",
       "    .colab-df-convert:hover {\n",
       "      background-color: #E2EBFA;\n",
       "      box-shadow: 0px 1px 2px rgba(60, 64, 67, 0.3), 0px 1px 3px 1px rgba(60, 64, 67, 0.15);\n",
       "      fill: #174EA6;\n",
       "    }\n",
       "\n",
       "    [theme=dark] .colab-df-convert {\n",
       "      background-color: #3B4455;\n",
       "      fill: #D2E3FC;\n",
       "    }\n",
       "\n",
       "    [theme=dark] .colab-df-convert:hover {\n",
       "      background-color: #434B5C;\n",
       "      box-shadow: 0px 1px 3px 1px rgba(0, 0, 0, 0.15);\n",
       "      filter: drop-shadow(0px 1px 2px rgba(0, 0, 0, 0.3));\n",
       "      fill: #FFFFFF;\n",
       "    }\n",
       "  </style>\n",
       "\n",
       "      <script>\n",
       "        const buttonEl =\n",
       "          document.querySelector('#df-d01a7c4b-22f8-44f7-94c2-3b8beb45d4df button.colab-df-convert');\n",
       "        buttonEl.style.display =\n",
       "          google.colab.kernel.accessAllowed ? 'block' : 'none';\n",
       "\n",
       "        async function convertToInteractive(key) {\n",
       "          const element = document.querySelector('#df-d01a7c4b-22f8-44f7-94c2-3b8beb45d4df');\n",
       "          const dataTable =\n",
       "            await google.colab.kernel.invokeFunction('convertToInteractive',\n",
       "                                                     [key], {});\n",
       "          if (!dataTable) return;\n",
       "\n",
       "          const docLinkHtml = 'Like what you see? Visit the ' +\n",
       "            '<a target=\"_blank\" href=https://colab.research.google.com/notebooks/data_table.ipynb>data table notebook</a>'\n",
       "            + ' to learn more about interactive tables.';\n",
       "          element.innerHTML = '';\n",
       "          dataTable['output_type'] = 'display_data';\n",
       "          await google.colab.output.renderOutput(dataTable, element);\n",
       "          const docLink = document.createElement('div');\n",
       "          docLink.innerHTML = docLinkHtml;\n",
       "          element.appendChild(docLink);\n",
       "        }\n",
       "      </script>\n",
       "    </div>\n",
       "  </div>\n",
       "  "
      ],
      "text/plain": [
       "                        consumer_complaint_narrative          product\n",
       "0  XXXX has claimed I owe them {$27.00} for XXXX ...  Others Services\n",
       "1  Due to inconsistencies in the amount owed that...     Loan Related\n",
       "2  In XX/XX/XXXX my wages that I earned at my job...  Others Services\n",
       "3  I have an open and current mortgage with Chase...  Others Services\n",
       "4  XXXX was submitted XX/XX/XXXX. At the time I s...  Others Services"
      ]
     },
     "execution_count": 17,
     "metadata": {},
     "output_type": "execute_result"
    }
   ],
   "source": [
    "df.head()"
   ]
  },
  {
   "cell_type": "code",
   "execution_count": 18,
   "metadata": {
    "id": "JC9hdaQUf7QF"
   },
   "outputs": [],
   "source": [
    "def example_complain(index):\n",
    "    example = df[df.index == index][['consumer_complaint_narrative', 'product']].values[0]\n",
    "    if len(example) > 0:\n",
    "        print(example[0])\n",
    "        print()\n",
    "        print('Category:', example[1])"
   ]
  },
  {
   "cell_type": "code",
   "execution_count": 77,
   "metadata": {
    "colab": {
     "base_uri": "https://localhost:8080/"
    },
    "id": "3ptA9A3ugKPa",
    "outputId": "e87c32ad-a6d3-4468-b186-b31c22863b87"
   },
   "outputs": [
    {
     "name": "stdout",
     "output_type": "stream",
     "text": [
      "opened bank america credit card 1520 year ago interest account low time 7 year ago got notice interest changing going prime plus 2 thinkprime going back several bank option close account stay old term cond lock interest rate till paid offso new term cond acceptingi closed account made payment since time never latemy history show thisi month past 5 year plus schedule payment online ea month get conformation number payment scheduledon account done 5years got conformation number transaction payment due get call home rude man # caller id say calling card service payment late late charge meant term cond charged irs getting sent statementi thought scam tell owned bank america still nasty threaten 7days past duei got nasty eplained scheduled payment conformation # careafter 1hr plus haurasing hung called bank america customer service 65hrs later phone people get told internet dept saw scheduled payment said bank america wrong 100 know fi problemapparently time week put new billing system system update took account put un active position payment scheduled could find account apply paymenti made yet new system could apply paymenti way knowing find account way ask fi issue idea fi problem people installed new updated system input account could seeni suppose get call someone corp level net day address problem never happened spend another 5 hour phone way phone going call home phone put hold speak supervisor 2hrs later never happened called cell phone got supervisor nothing 3 hoursi asked 1thing never got asked 2500 credit late fee refused kept reading note put hold come back nothing tried eplain needed done would listen 3 hour 12 hour getting filling complaint also concern nothave spoken attorney yet believe right violated get call threaten spoke told az internet dept bank america fault needed fi told payment late fee refuse service refuse wave fee faulti conformation # payment always made time never late yet getting called home threaten bank america wrong paying nowthis wrong really feel violated wayi also found supervisor spoke never recorded ever spoke call center scarolinaand call never never put note spoke get right allthank time\n",
      "\n",
      "Category: Credit Card Related\n"
     ]
    }
   ],
   "source": [
    "example_complain(8)"
   ]
  },
  {
   "cell_type": "code",
   "execution_count": 20,
   "metadata": {
    "id": "HjXCdRCvaSLu"
   },
   "outputs": [],
   "source": [
    "import nltk\n",
    "import re\n",
    "from nltk.corpus import stopwords"
   ]
  },
  {
   "cell_type": "code",
   "execution_count": 21,
   "metadata": {
    "colab": {
     "base_uri": "https://localhost:8080/"
    },
    "id": "EHWXEJReaSOi",
    "outputId": "3fc6878b-2a46-4631-ff41-4426cfcab0c4"
   },
   "outputs": [
    {
     "name": "stdout",
     "output_type": "stream",
     "text": [
      "[nltk_data] Downloading package stopwords to /root/nltk_data...\n",
      "[nltk_data]   Unzipping corpora/stopwords.zip.\n",
      "[nltk_data] Downloading collection 'all'\n",
      "[nltk_data]    | \n",
      "[nltk_data]    | Downloading package abc to /root/nltk_data...\n",
      "[nltk_data]    |   Unzipping corpora/abc.zip.\n",
      "[nltk_data]    | Downloading package alpino to /root/nltk_data...\n",
      "[nltk_data]    |   Unzipping corpora/alpino.zip.\n",
      "[nltk_data]    | Downloading package averaged_perceptron_tagger to\n",
      "[nltk_data]    |     /root/nltk_data...\n",
      "[nltk_data]    |   Unzipping taggers/averaged_perceptron_tagger.zip.\n",
      "[nltk_data]    | Downloading package averaged_perceptron_tagger_ru to\n",
      "[nltk_data]    |     /root/nltk_data...\n",
      "[nltk_data]    |   Unzipping\n",
      "[nltk_data]    |       taggers/averaged_perceptron_tagger_ru.zip.\n",
      "[nltk_data]    | Downloading package basque_grammars to\n",
      "[nltk_data]    |     /root/nltk_data...\n",
      "[nltk_data]    |   Unzipping grammars/basque_grammars.zip.\n",
      "[nltk_data]    | Downloading package biocreative_ppi to\n",
      "[nltk_data]    |     /root/nltk_data...\n",
      "[nltk_data]    |   Unzipping corpora/biocreative_ppi.zip.\n",
      "[nltk_data]    | Downloading package bllip_wsj_no_aux to\n",
      "[nltk_data]    |     /root/nltk_data...\n",
      "[nltk_data]    |   Unzipping models/bllip_wsj_no_aux.zip.\n",
      "[nltk_data]    | Downloading package book_grammars to\n",
      "[nltk_data]    |     /root/nltk_data...\n",
      "[nltk_data]    |   Unzipping grammars/book_grammars.zip.\n",
      "[nltk_data]    | Downloading package brown to /root/nltk_data...\n",
      "[nltk_data]    |   Unzipping corpora/brown.zip.\n",
      "[nltk_data]    | Downloading package brown_tei to /root/nltk_data...\n",
      "[nltk_data]    |   Unzipping corpora/brown_tei.zip.\n",
      "[nltk_data]    | Downloading package cess_cat to /root/nltk_data...\n",
      "[nltk_data]    |   Unzipping corpora/cess_cat.zip.\n",
      "[nltk_data]    | Downloading package cess_esp to /root/nltk_data...\n",
      "[nltk_data]    |   Unzipping corpora/cess_esp.zip.\n",
      "[nltk_data]    | Downloading package chat80 to /root/nltk_data...\n",
      "[nltk_data]    |   Unzipping corpora/chat80.zip.\n",
      "[nltk_data]    | Downloading package city_database to\n",
      "[nltk_data]    |     /root/nltk_data...\n",
      "[nltk_data]    |   Unzipping corpora/city_database.zip.\n",
      "[nltk_data]    | Downloading package cmudict to /root/nltk_data...\n",
      "[nltk_data]    |   Unzipping corpora/cmudict.zip.\n",
      "[nltk_data]    | Downloading package comparative_sentences to\n",
      "[nltk_data]    |     /root/nltk_data...\n",
      "[nltk_data]    |   Unzipping corpora/comparative_sentences.zip.\n",
      "[nltk_data]    | Downloading package comtrans to /root/nltk_data...\n",
      "[nltk_data]    | Downloading package conll2000 to /root/nltk_data...\n",
      "[nltk_data]    |   Unzipping corpora/conll2000.zip.\n",
      "[nltk_data]    | Downloading package conll2002 to /root/nltk_data...\n",
      "[nltk_data]    |   Unzipping corpora/conll2002.zip.\n",
      "[nltk_data]    | Downloading package conll2007 to /root/nltk_data...\n",
      "[nltk_data]    | Downloading package crubadan to /root/nltk_data...\n",
      "[nltk_data]    |   Unzipping corpora/crubadan.zip.\n",
      "[nltk_data]    | Downloading package dependency_treebank to\n",
      "[nltk_data]    |     /root/nltk_data...\n",
      "[nltk_data]    |   Unzipping corpora/dependency_treebank.zip.\n",
      "[nltk_data]    | Downloading package dolch to /root/nltk_data...\n",
      "[nltk_data]    |   Unzipping corpora/dolch.zip.\n",
      "[nltk_data]    | Downloading package europarl_raw to\n",
      "[nltk_data]    |     /root/nltk_data...\n",
      "[nltk_data]    |   Unzipping corpora/europarl_raw.zip.\n",
      "[nltk_data]    | Downloading package floresta to /root/nltk_data...\n",
      "[nltk_data]    |   Unzipping corpora/floresta.zip.\n",
      "[nltk_data]    | Downloading package framenet_v15 to\n",
      "[nltk_data]    |     /root/nltk_data...\n",
      "[nltk_data]    |   Unzipping corpora/framenet_v15.zip.\n",
      "[nltk_data]    | Downloading package framenet_v17 to\n",
      "[nltk_data]    |     /root/nltk_data...\n",
      "[nltk_data]    |   Unzipping corpora/framenet_v17.zip.\n",
      "[nltk_data]    | Downloading package gazetteers to /root/nltk_data...\n",
      "[nltk_data]    |   Unzipping corpora/gazetteers.zip.\n",
      "[nltk_data]    | Downloading package genesis to /root/nltk_data...\n",
      "[nltk_data]    |   Unzipping corpora/genesis.zip.\n",
      "[nltk_data]    | Downloading package gutenberg to /root/nltk_data...\n",
      "[nltk_data]    |   Unzipping corpora/gutenberg.zip.\n",
      "[nltk_data]    | Downloading package ieer to /root/nltk_data...\n",
      "[nltk_data]    |   Unzipping corpora/ieer.zip.\n",
      "[nltk_data]    | Downloading package inaugural to /root/nltk_data...\n",
      "[nltk_data]    |   Unzipping corpora/inaugural.zip.\n",
      "[nltk_data]    | Downloading package indian to /root/nltk_data...\n",
      "[nltk_data]    |   Unzipping corpora/indian.zip.\n",
      "[nltk_data]    | Downloading package jeita to /root/nltk_data...\n",
      "[nltk_data]    | Downloading package kimmo to /root/nltk_data...\n",
      "[nltk_data]    |   Unzipping corpora/kimmo.zip.\n",
      "[nltk_data]    | Downloading package knbc to /root/nltk_data...\n",
      "[nltk_data]    | Downloading package large_grammars to\n",
      "[nltk_data]    |     /root/nltk_data...\n",
      "[nltk_data]    |   Unzipping grammars/large_grammars.zip.\n",
      "[nltk_data]    | Downloading package lin_thesaurus to\n",
      "[nltk_data]    |     /root/nltk_data...\n",
      "[nltk_data]    |   Unzipping corpora/lin_thesaurus.zip.\n",
      "[nltk_data]    | Downloading package mac_morpho to /root/nltk_data...\n",
      "[nltk_data]    |   Unzipping corpora/mac_morpho.zip.\n",
      "[nltk_data]    | Downloading package machado to /root/nltk_data...\n",
      "[nltk_data]    | Downloading package masc_tagged to /root/nltk_data...\n",
      "[nltk_data]    | Downloading package maxent_ne_chunker to\n",
      "[nltk_data]    |     /root/nltk_data...\n",
      "[nltk_data]    |   Unzipping chunkers/maxent_ne_chunker.zip.\n",
      "[nltk_data]    | Downloading package maxent_treebank_pos_tagger to\n",
      "[nltk_data]    |     /root/nltk_data...\n",
      "[nltk_data]    |   Unzipping taggers/maxent_treebank_pos_tagger.zip.\n",
      "[nltk_data]    | Downloading package moses_sample to\n",
      "[nltk_data]    |     /root/nltk_data...\n",
      "[nltk_data]    |   Unzipping models/moses_sample.zip.\n",
      "[nltk_data]    | Downloading package movie_reviews to\n",
      "[nltk_data]    |     /root/nltk_data...\n",
      "[nltk_data]    |   Unzipping corpora/movie_reviews.zip.\n",
      "[nltk_data]    | Downloading package mte_teip5 to /root/nltk_data...\n",
      "[nltk_data]    |   Unzipping corpora/mte_teip5.zip.\n",
      "[nltk_data]    | Downloading package mwa_ppdb to /root/nltk_data...\n",
      "[nltk_data]    |   Unzipping misc/mwa_ppdb.zip.\n",
      "[nltk_data]    | Downloading package names to /root/nltk_data...\n",
      "[nltk_data]    |   Unzipping corpora/names.zip.\n",
      "[nltk_data]    | Downloading package nombank.1.0 to /root/nltk_data...\n",
      "[nltk_data]    | Downloading package nonbreaking_prefixes to\n",
      "[nltk_data]    |     /root/nltk_data...\n",
      "[nltk_data]    |   Unzipping corpora/nonbreaking_prefixes.zip.\n",
      "[nltk_data]    | Downloading package nps_chat to /root/nltk_data...\n",
      "[nltk_data]    |   Unzipping corpora/nps_chat.zip.\n",
      "[nltk_data]    | Downloading package omw to /root/nltk_data...\n",
      "[nltk_data]    |   Unzipping corpora/omw.zip.\n",
      "[nltk_data]    | Downloading package omw-1.4 to /root/nltk_data...\n",
      "[nltk_data]    |   Unzipping corpora/omw-1.4.zip.\n",
      "[nltk_data]    | Downloading package opinion_lexicon to\n",
      "[nltk_data]    |     /root/nltk_data...\n",
      "[nltk_data]    |   Unzipping corpora/opinion_lexicon.zip.\n",
      "[nltk_data]    | Downloading package panlex_swadesh to\n",
      "[nltk_data]    |     /root/nltk_data...\n",
      "[nltk_data]    | Downloading package paradigms to /root/nltk_data...\n",
      "[nltk_data]    |   Unzipping corpora/paradigms.zip.\n",
      "[nltk_data]    | Downloading package pe08 to /root/nltk_data...\n",
      "[nltk_data]    |   Unzipping corpora/pe08.zip.\n",
      "[nltk_data]    | Downloading package perluniprops to\n",
      "[nltk_data]    |     /root/nltk_data...\n",
      "[nltk_data]    |   Unzipping misc/perluniprops.zip.\n",
      "[nltk_data]    | Downloading package pil to /root/nltk_data...\n",
      "[nltk_data]    |   Unzipping corpora/pil.zip.\n",
      "[nltk_data]    | Downloading package pl196x to /root/nltk_data...\n",
      "[nltk_data]    |   Unzipping corpora/pl196x.zip.\n",
      "[nltk_data]    | Downloading package porter_test to /root/nltk_data...\n",
      "[nltk_data]    |   Unzipping stemmers/porter_test.zip.\n",
      "[nltk_data]    | Downloading package ppattach to /root/nltk_data...\n",
      "[nltk_data]    |   Unzipping corpora/ppattach.zip.\n",
      "[nltk_data]    | Downloading package problem_reports to\n",
      "[nltk_data]    |     /root/nltk_data...\n",
      "[nltk_data]    |   Unzipping corpora/problem_reports.zip.\n",
      "[nltk_data]    | Downloading package product_reviews_1 to\n",
      "[nltk_data]    |     /root/nltk_data...\n",
      "[nltk_data]    |   Unzipping corpora/product_reviews_1.zip.\n",
      "[nltk_data]    | Downloading package product_reviews_2 to\n",
      "[nltk_data]    |     /root/nltk_data...\n",
      "[nltk_data]    |   Unzipping corpora/product_reviews_2.zip.\n",
      "[nltk_data]    | Downloading package propbank to /root/nltk_data...\n",
      "[nltk_data]    | Downloading package pros_cons to /root/nltk_data...\n",
      "[nltk_data]    |   Unzipping corpora/pros_cons.zip.\n",
      "[nltk_data]    | Downloading package ptb to /root/nltk_data...\n",
      "[nltk_data]    |   Unzipping corpora/ptb.zip.\n",
      "[nltk_data]    | Downloading package punkt to /root/nltk_data...\n",
      "[nltk_data]    |   Unzipping tokenizers/punkt.zip.\n",
      "[nltk_data]    | Downloading package qc to /root/nltk_data...\n",
      "[nltk_data]    |   Unzipping corpora/qc.zip.\n",
      "[nltk_data]    | Downloading package reuters to /root/nltk_data...\n",
      "[nltk_data]    | Downloading package rslp to /root/nltk_data...\n",
      "[nltk_data]    |   Unzipping stemmers/rslp.zip.\n",
      "[nltk_data]    | Downloading package rte to /root/nltk_data...\n",
      "[nltk_data]    |   Unzipping corpora/rte.zip.\n",
      "[nltk_data]    | Downloading package sample_grammars to\n",
      "[nltk_data]    |     /root/nltk_data...\n",
      "[nltk_data]    |   Unzipping grammars/sample_grammars.zip.\n",
      "[nltk_data]    | Downloading package semcor to /root/nltk_data...\n",
      "[nltk_data]    | Downloading package senseval to /root/nltk_data...\n",
      "[nltk_data]    |   Unzipping corpora/senseval.zip.\n",
      "[nltk_data]    | Downloading package sentence_polarity to\n",
      "[nltk_data]    |     /root/nltk_data...\n",
      "[nltk_data]    |   Unzipping corpora/sentence_polarity.zip.\n",
      "[nltk_data]    | Downloading package sentiwordnet to\n",
      "[nltk_data]    |     /root/nltk_data...\n",
      "[nltk_data]    |   Unzipping corpora/sentiwordnet.zip.\n",
      "[nltk_data]    | Downloading package shakespeare to /root/nltk_data...\n",
      "[nltk_data]    |   Unzipping corpora/shakespeare.zip.\n",
      "[nltk_data]    | Downloading package sinica_treebank to\n",
      "[nltk_data]    |     /root/nltk_data...\n",
      "[nltk_data]    |   Unzipping corpora/sinica_treebank.zip.\n",
      "[nltk_data]    | Downloading package smultron to /root/nltk_data...\n",
      "[nltk_data]    |   Unzipping corpora/smultron.zip.\n",
      "[nltk_data]    | Downloading package snowball_data to\n",
      "[nltk_data]    |     /root/nltk_data...\n",
      "[nltk_data]    | Downloading package spanish_grammars to\n",
      "[nltk_data]    |     /root/nltk_data...\n",
      "[nltk_data]    |   Unzipping grammars/spanish_grammars.zip.\n",
      "[nltk_data]    | Downloading package state_union to /root/nltk_data...\n",
      "[nltk_data]    |   Unzipping corpora/state_union.zip.\n",
      "[nltk_data]    | Downloading package stopwords to /root/nltk_data...\n",
      "[nltk_data]    |   Package stopwords is already up-to-date!\n",
      "[nltk_data]    | Downloading package subjectivity to\n",
      "[nltk_data]    |     /root/nltk_data...\n",
      "[nltk_data]    |   Unzipping corpora/subjectivity.zip.\n",
      "[nltk_data]    | Downloading package swadesh to /root/nltk_data...\n",
      "[nltk_data]    |   Unzipping corpora/swadesh.zip.\n",
      "[nltk_data]    | Downloading package switchboard to /root/nltk_data...\n",
      "[nltk_data]    |   Unzipping corpora/switchboard.zip.\n",
      "[nltk_data]    | Downloading package tagsets to /root/nltk_data...\n",
      "[nltk_data]    |   Unzipping help/tagsets.zip.\n",
      "[nltk_data]    | Downloading package timit to /root/nltk_data...\n",
      "[nltk_data]    |   Unzipping corpora/timit.zip.\n",
      "[nltk_data]    | Downloading package toolbox to /root/nltk_data...\n",
      "[nltk_data]    |   Unzipping corpora/toolbox.zip.\n",
      "[nltk_data]    | Downloading package treebank to /root/nltk_data...\n",
      "[nltk_data]    |   Unzipping corpora/treebank.zip.\n",
      "[nltk_data]    | Downloading package twitter_samples to\n",
      "[nltk_data]    |     /root/nltk_data...\n",
      "[nltk_data]    |   Unzipping corpora/twitter_samples.zip.\n",
      "[nltk_data]    | Downloading package udhr to /root/nltk_data...\n",
      "[nltk_data]    |   Unzipping corpora/udhr.zip.\n",
      "[nltk_data]    | Downloading package udhr2 to /root/nltk_data...\n",
      "[nltk_data]    |   Unzipping corpora/udhr2.zip.\n",
      "[nltk_data]    | Downloading package unicode_samples to\n",
      "[nltk_data]    |     /root/nltk_data...\n",
      "[nltk_data]    |   Unzipping corpora/unicode_samples.zip.\n",
      "[nltk_data]    | Downloading package universal_tagset to\n",
      "[nltk_data]    |     /root/nltk_data...\n",
      "[nltk_data]    |   Unzipping taggers/universal_tagset.zip.\n",
      "[nltk_data]    | Downloading package universal_treebanks_v20 to\n",
      "[nltk_data]    |     /root/nltk_data...\n",
      "[nltk_data]    | Downloading package vader_lexicon to\n",
      "[nltk_data]    |     /root/nltk_data...\n",
      "[nltk_data]    | Downloading package verbnet to /root/nltk_data...\n",
      "[nltk_data]    |   Unzipping corpora/verbnet.zip.\n",
      "[nltk_data]    | Downloading package verbnet3 to /root/nltk_data...\n",
      "[nltk_data]    |   Unzipping corpora/verbnet3.zip.\n",
      "[nltk_data]    | Downloading package webtext to /root/nltk_data...\n",
      "[nltk_data]    |   Unzipping corpora/webtext.zip.\n",
      "[nltk_data]    | Downloading package wmt15_eval to /root/nltk_data...\n",
      "[nltk_data]    |   Unzipping models/wmt15_eval.zip.\n",
      "[nltk_data]    | Downloading package word2vec_sample to\n",
      "[nltk_data]    |     /root/nltk_data...\n",
      "[nltk_data]    |   Unzipping models/word2vec_sample.zip.\n",
      "[nltk_data]    | Downloading package wordnet to /root/nltk_data...\n",
      "[nltk_data]    |   Unzipping corpora/wordnet.zip.\n",
      "[nltk_data]    | Downloading package wordnet2021 to /root/nltk_data...\n",
      "[nltk_data]    |   Unzipping corpora/wordnet2021.zip.\n",
      "[nltk_data]    | Downloading package wordnet31 to /root/nltk_data...\n",
      "[nltk_data]    |   Unzipping corpora/wordnet31.zip.\n",
      "[nltk_data]    | Downloading package wordnet_ic to /root/nltk_data...\n",
      "[nltk_data]    |   Unzipping corpora/wordnet_ic.zip.\n",
      "[nltk_data]    | Downloading package words to /root/nltk_data...\n",
      "[nltk_data]    |   Unzipping corpora/words.zip.\n",
      "[nltk_data]    | Downloading package ycoe to /root/nltk_data...\n",
      "[nltk_data]    |   Unzipping corpora/ycoe.zip.\n",
      "[nltk_data]    | \n",
      "[nltk_data]  Done downloading collection all\n"
     ]
    },
    {
     "data": {
      "text/plain": [
       "True"
      ]
     },
     "execution_count": 21,
     "metadata": {},
     "output_type": "execute_result"
    }
   ],
   "source": [
    "nltk.download('stopwords')\n",
    "nltk.download('all')"
   ]
  },
  {
   "cell_type": "code",
   "execution_count": 22,
   "metadata": {
    "id": "qEk_nDrwpDL7"
   },
   "outputs": [],
   "source": [
    "from nltk.stem import WordNetLemmatizer\n",
    "lemmatizer=WordNetLemmatizer()\n",
    "\n",
    "df = df.reset_index(drop=True)\n",
    "REPLACE_BY_SPACE_RE = re.compile('[/(){}\\[\\]\\|@,;]')\n",
    "BAD_SYMBOLS_RE = re.compile('[^0-9a-z #+_]')\n",
    "\n",
    "def clean_text(text):\n",
    "    text = text.lower() # lowercase text\n",
    "    text = REPLACE_BY_SPACE_RE.sub(' ', text) # replace REPLACE_BY_SPACE_RE symbols by space in text. substitute the matched string in REPLACE_BY_SPACE_RE with space.\n",
    "    text = BAD_SYMBOLS_RE.sub('', text) # remove symbols which are in BAD_SYMBOLS_RE from text. substitute the matched string in BAD_SYMBOLS_RE with nothing. \n",
    "    text = text.replace('x', '') # replacing x woth nothing\n",
    "    text = text.split() ## Splitting each word from sentence\n",
    "    text = [lemmatizer.lemmatize(word) for word in text if not word in stopwords.words('english')] ## Removing stopwords and using lematization for dictionary words\n",
    "    text = ' '.join(text) ## Again joining all words to form a sentence\n",
    "    return text\n",
    "\n",
    "df['consumer_complaint_narrative'] = df['consumer_complaint_narrative'].apply(clean_text)\n"
   ]
  },
  {
   "cell_type": "code",
   "execution_count": 23,
   "metadata": {
    "colab": {
     "base_uri": "https://localhost:8080/"
    },
    "id": "DhlUYrKVaSWN",
    "outputId": "aeca3436-58f2-47ce-ac7e-e90e89575c67"
   },
   "outputs": [
    {
     "name": "stdout",
     "output_type": "stream",
     "text": [
      "eperian reporting open current mortgage loan bk reporting monthly payment eperian supressing information refuse accurately report payment show account open debt officially reinstated chapter bk chapter bk eperian legal right rport current status mortgage\n",
      "\n",
      "Category: Others Services\n"
     ]
    }
   ],
   "source": [
    "example_complain(5)"
   ]
  },
  {
   "cell_type": "code",
   "execution_count": 24,
   "metadata": {
    "colab": {
     "base_uri": "https://localhost:8080/",
     "height": 206
    },
    "id": "j8nlhf71aSbk",
    "outputId": "977bec11-5164-41e1-ec32-94e2a0dcd64f"
   },
   "outputs": [
    {
     "data": {
      "text/html": [
       "\n",
       "  <div id=\"df-25c981db-c713-4e8e-908e-70bffda139b9\">\n",
       "    <div class=\"colab-df-container\">\n",
       "      <div>\n",
       "<style scoped>\n",
       "    .dataframe tbody tr th:only-of-type {\n",
       "        vertical-align: middle;\n",
       "    }\n",
       "\n",
       "    .dataframe tbody tr th {\n",
       "        vertical-align: top;\n",
       "    }\n",
       "\n",
       "    .dataframe thead th {\n",
       "        text-align: right;\n",
       "    }\n",
       "</style>\n",
       "<table border=\"1\" class=\"dataframe\">\n",
       "  <thead>\n",
       "    <tr style=\"text-align: right;\">\n",
       "      <th></th>\n",
       "      <th>consumer_complaint_narrative</th>\n",
       "      <th>product</th>\n",
       "    </tr>\n",
       "  </thead>\n",
       "  <tbody>\n",
       "    <tr>\n",
       "      <th>0</th>\n",
       "      <td>claimed owe 2700 year despite proof payment se...</td>\n",
       "      <td>Others Services</td>\n",
       "    </tr>\n",
       "    <tr>\n",
       "      <th>1</th>\n",
       "      <td>due inconsistency amount owed told bank amount...</td>\n",
       "      <td>Loan Related</td>\n",
       "    </tr>\n",
       "    <tr>\n",
       "      <th>2</th>\n",
       "      <td>wage earned job decreased almost half knew tro...</td>\n",
       "      <td>Others Services</td>\n",
       "    </tr>\n",
       "    <tr>\n",
       "      <th>3</th>\n",
       "      <td>open current mortgage chase bank # chase repor...</td>\n",
       "      <td>Others Services</td>\n",
       "    </tr>\n",
       "    <tr>\n",
       "      <th>4</th>\n",
       "      <td>submitted time submitted complaint dealt rushm...</td>\n",
       "      <td>Others Services</td>\n",
       "    </tr>\n",
       "  </tbody>\n",
       "</table>\n",
       "</div>\n",
       "      <button class=\"colab-df-convert\" onclick=\"convertToInteractive('df-25c981db-c713-4e8e-908e-70bffda139b9')\"\n",
       "              title=\"Convert this dataframe to an interactive table.\"\n",
       "              style=\"display:none;\">\n",
       "        \n",
       "  <svg xmlns=\"http://www.w3.org/2000/svg\" height=\"24px\"viewBox=\"0 0 24 24\"\n",
       "       width=\"24px\">\n",
       "    <path d=\"M0 0h24v24H0V0z\" fill=\"none\"/>\n",
       "    <path d=\"M18.56 5.44l.94 2.06.94-2.06 2.06-.94-2.06-.94-.94-2.06-.94 2.06-2.06.94zm-11 1L8.5 8.5l.94-2.06 2.06-.94-2.06-.94L8.5 2.5l-.94 2.06-2.06.94zm10 10l.94 2.06.94-2.06 2.06-.94-2.06-.94-.94-2.06-.94 2.06-2.06.94z\"/><path d=\"M17.41 7.96l-1.37-1.37c-.4-.4-.92-.59-1.43-.59-.52 0-1.04.2-1.43.59L10.3 9.45l-7.72 7.72c-.78.78-.78 2.05 0 2.83L4 21.41c.39.39.9.59 1.41.59.51 0 1.02-.2 1.41-.59l7.78-7.78 2.81-2.81c.8-.78.8-2.07 0-2.86zM5.41 20L4 18.59l7.72-7.72 1.47 1.35L5.41 20z\"/>\n",
       "  </svg>\n",
       "      </button>\n",
       "      \n",
       "  <style>\n",
       "    .colab-df-container {\n",
       "      display:flex;\n",
       "      flex-wrap:wrap;\n",
       "      gap: 12px;\n",
       "    }\n",
       "\n",
       "    .colab-df-convert {\n",
       "      background-color: #E8F0FE;\n",
       "      border: none;\n",
       "      border-radius: 50%;\n",
       "      cursor: pointer;\n",
       "      display: none;\n",
       "      fill: #1967D2;\n",
       "      height: 32px;\n",
       "      padding: 0 0 0 0;\n",
       "      width: 32px;\n",
       "    }\n",
       "\n",
       "    .colab-df-convert:hover {\n",
       "      background-color: #E2EBFA;\n",
       "      box-shadow: 0px 1px 2px rgba(60, 64, 67, 0.3), 0px 1px 3px 1px rgba(60, 64, 67, 0.15);\n",
       "      fill: #174EA6;\n",
       "    }\n",
       "\n",
       "    [theme=dark] .colab-df-convert {\n",
       "      background-color: #3B4455;\n",
       "      fill: #D2E3FC;\n",
       "    }\n",
       "\n",
       "    [theme=dark] .colab-df-convert:hover {\n",
       "      background-color: #434B5C;\n",
       "      box-shadow: 0px 1px 3px 1px rgba(0, 0, 0, 0.15);\n",
       "      filter: drop-shadow(0px 1px 2px rgba(0, 0, 0, 0.3));\n",
       "      fill: #FFFFFF;\n",
       "    }\n",
       "  </style>\n",
       "\n",
       "      <script>\n",
       "        const buttonEl =\n",
       "          document.querySelector('#df-25c981db-c713-4e8e-908e-70bffda139b9 button.colab-df-convert');\n",
       "        buttonEl.style.display =\n",
       "          google.colab.kernel.accessAllowed ? 'block' : 'none';\n",
       "\n",
       "        async function convertToInteractive(key) {\n",
       "          const element = document.querySelector('#df-25c981db-c713-4e8e-908e-70bffda139b9');\n",
       "          const dataTable =\n",
       "            await google.colab.kernel.invokeFunction('convertToInteractive',\n",
       "                                                     [key], {});\n",
       "          if (!dataTable) return;\n",
       "\n",
       "          const docLinkHtml = 'Like what you see? Visit the ' +\n",
       "            '<a target=\"_blank\" href=https://colab.research.google.com/notebooks/data_table.ipynb>data table notebook</a>'\n",
       "            + ' to learn more about interactive tables.';\n",
       "          element.innerHTML = '';\n",
       "          dataTable['output_type'] = 'display_data';\n",
       "          await google.colab.output.renderOutput(dataTable, element);\n",
       "          const docLink = document.createElement('div');\n",
       "          docLink.innerHTML = docLinkHtml;\n",
       "          element.appendChild(docLink);\n",
       "        }\n",
       "      </script>\n",
       "    </div>\n",
       "  </div>\n",
       "  "
      ],
      "text/plain": [
       "                        consumer_complaint_narrative          product\n",
       "0  claimed owe 2700 year despite proof payment se...  Others Services\n",
       "1  due inconsistency amount owed told bank amount...     Loan Related\n",
       "2  wage earned job decreased almost half knew tro...  Others Services\n",
       "3  open current mortgage chase bank # chase repor...  Others Services\n",
       "4  submitted time submitted complaint dealt rushm...  Others Services"
      ]
     },
     "execution_count": 24,
     "metadata": {},
     "output_type": "execute_result"
    }
   ],
   "source": [
    "df.head()"
   ]
  },
  {
   "cell_type": "code",
   "execution_count": 25,
   "metadata": {
    "colab": {
     "base_uri": "https://localhost:8080/"
    },
    "id": "bMEkAa3azs7W",
    "outputId": "c1d578ea-f5de-46c6-b855-2d0b5c0180da"
   },
   "outputs": [
    {
     "data": {
      "text/plain": [
       "False    48270\n",
       "True       209\n",
       "dtype: int64"
      ]
     },
     "execution_count": 25,
     "metadata": {},
     "output_type": "execute_result"
    }
   ],
   "source": [
    "df.duplicated().value_counts()"
   ]
  },
  {
   "cell_type": "code",
   "execution_count": 26,
   "metadata": {
    "id": "O_LYe0xwz1Me"
   },
   "outputs": [],
   "source": [
    "df.drop_duplicates(inplace=True)\n",
    "df.reset_index(drop=True,inplace=True)"
   ]
  },
  {
   "cell_type": "code",
   "execution_count": 27,
   "metadata": {
    "colab": {
     "base_uri": "https://localhost:8080/"
    },
    "id": "4ow22zvYAd50",
    "outputId": "05a53e82-8ea5-49fa-8b8b-3b2aed5a6761"
   },
   "outputs": [
    {
     "data": {
      "text/plain": [
       "(48270, 2)"
      ]
     },
     "execution_count": 27,
     "metadata": {},
     "output_type": "execute_result"
    }
   ],
   "source": [
    "df.shape"
   ]
  },
  {
   "cell_type": "code",
   "execution_count": 28,
   "metadata": {
    "colab": {
     "base_uri": "https://localhost:8080/"
    },
    "id": "0CzLPXByAhbg",
    "outputId": "8a92691a-227d-471d-ac31-abee627577bb"
   },
   "outputs": [
    {
     "data": {
      "text/plain": [
       "consumer_complaint_narrative    0\n",
       "product                         0\n",
       "dtype: int64"
      ]
     },
     "execution_count": 28,
     "metadata": {},
     "output_type": "execute_result"
    }
   ],
   "source": [
    "df.isna().sum()"
   ]
  },
  {
   "cell_type": "code",
   "execution_count": 29,
   "metadata": {
    "id": "0VjvsL9Rijxe"
   },
   "outputs": [],
   "source": [
    "# The maximum number of words to be used. (most frequent)\n",
    "MAX_NB_WORDS = 50000\n",
    "# Max number of words in each complaint.\n",
    "MAX_SEQUENCE_LENGTH = 250\n",
    "# This is fixed.\n",
    "EMBEDDING_DIM = 100"
   ]
  },
  {
   "cell_type": "code",
   "execution_count": 30,
   "metadata": {
    "colab": {
     "base_uri": "https://localhost:8080/"
    },
    "id": "DIIKlFANj46c",
    "outputId": "99b0a1b5-1567-4b60-afe3-787e3bb7dc90"
   },
   "outputs": [
    {
     "name": "stdout",
     "output_type": "stream",
     "text": [
      "Found 49535 unique tokens.\n"
     ]
    }
   ],
   "source": [
    "from tensorflow.keras.preprocessing.text import Tokenizer\n",
    "tokenizer = Tokenizer(num_words=MAX_NB_WORDS, filters='!\"#$%&()*+,-./:;<=>?@[\\]^_`{|}~', lower=True)\n",
    "tokenizer.fit_on_texts(df['consumer_complaint_narrative'].values)\n",
    "word_index = tokenizer.word_index\n",
    "print('Found %s unique tokens.' % len(word_index))"
   ]
  },
  {
   "cell_type": "code",
   "execution_count": 31,
   "metadata": {
    "colab": {
     "base_uri": "https://localhost:8080/"
    },
    "id": "Ea7PlakckDUx",
    "outputId": "cb8a84d5-0bf2-43d0-c3fd-37e0b08059bd"
   },
   "outputs": [
    {
     "data": {
      "text/plain": [
       "<keras_preprocessing.text.Tokenizer at 0x7fdf8d36b7d0>"
      ]
     },
     "execution_count": 31,
     "metadata": {},
     "output_type": "execute_result"
    }
   ],
   "source": [
    "tokenizer"
   ]
  },
  {
   "cell_type": "code",
   "execution_count": 32,
   "metadata": {
    "colab": {
     "base_uri": "https://localhost:8080/"
    },
    "id": "IUSnya8fkMxi",
    "outputId": "7f89cfeb-0263-4f32-cbea-151569ebd6ee"
   },
   "outputs": [
    {
     "data": {
      "text/plain": [
       "array(['claimed owe 2700 year despite proof payment sent canceled check ownpaid invoice 2700 continue insist owe collection agency stop harassment bill already paid four year ago',\n",
       "       'due inconsistency amount owed told bank amount reported credit reporting agency advised write good letter order address issue request negative entry removed credit report together vehicle stolen declared total loss insurance company insurance company gap insurancw companypaid outstanding balance loan told bank still balance due loan good faith without received proof still balance made partial payment towards remaining debt sent goodwill letter still offering pay remainder debt echange removal negative entry credit report one point 2015 per credit monitoring agency showed delinquent balance 000 checked credit report 2015 delinquent balance 140000 monies gap insurance insurance company paid bank say still owe 62000 21000 already paid contacted bank via return receipt mail given courtesy response yet',\n",
       "       'wage earned job decreased almost half knew trouble home loan began contacting wfb home loan assitance option early began loan modification process well fargo bank told would assist anything financial home loan fell 90 day behind though time started inquire assistance wfb week behind began working program called approved variety assistence reached well fargo bank determine could assist well fargo turned assistance finally offered loan modification outcome totally unknow would offered end wfb assistance well fargo lost paperwork twice process took 2 month time started time paperwork began processed kind approval trial period 3 month payment based slightly modified amount roughly 7500 le paying original payment however caseworker wfb failed tell since payment time full amount original mortgage payment applied loan discovered told creditor could nt restore line credit something mortgage called found caseworker wfb told nt responsibility tell information told could told could come remaining amount 7500 payment would applied instead chose withhold information damage credit even 5 month including 90 day wfb told fall behind would help without applied payment home loan going 6 month paperwork lost modification finalized loan modification nt go spoke lawyer working classaction lawsuit wfb people similar situation said paper loss typical well fargo reduce interest rate reduce payment le 10000 payment behind went back loan property taes also fell behind escrow account time payment loan behind property taes damaged credit better payment situation give reason rejected assistance originally told approved agency later phone call well fargo bank told work program often wfb employee could understand would reject help also spoke said well fargo work program time could nt understand would feel taken advantage well fargo would like pursue legal action based negligence although payment back track making much money matter time something like happens something unforeseen happens life affect finance',\n",
       "       ..., 'receive notice even owed debt nt even know mine',\n",
       "       '16 spoke representative named citi declined request report detailing charge history interest rate change time told would call back verify account provided digit social security number feel strongly information available company consumer charged 2699 interest right know history',\n",
       "       'came home town find letter citimortgage confused nt know letter stated owed 800000 stated owed 710000 bankruptcy first called attorney see received letter knew nothing told paralegal citi sent letter stating payment nt made motion relief would filed also reached email name letter stating contact never received response email call citi find letter sent told letter nt sent sent attorney supposed send today still seen letter call citi back find eactly need since attorney never still letter told could try get modification really nt need due due bankruptcy attorney sending letter citi filed motion relief received letter time attorney longer middle person started mod process last week told right back looking good submitted document asked received email weekly stating document needed time every week stating underwriter still working file sudden received email stating underwriter requested updated document item file epired strange every email doc needed email also state parenthesis probably use one sent u originally use whiteout update date fraud filled everything faed back also emailed verify doc received first email reply turned around sent email last friday finally got response told sorry inform file closed underwriter going dig document see rescue nt ask item needed tell time restraint able set reminder schedule give time review file none make sense asked resubmit everything replied back email asking status everything replied back told citi customer send document never review want document epire want go foreclosure going since point letter received mail foreclosure little confusing asked resend document every email sent need pas someone review'],\n",
       "      dtype=object)"
      ]
     },
     "execution_count": 32,
     "metadata": {},
     "output_type": "execute_result"
    }
   ],
   "source": [
    "df['consumer_complaint_narrative'].values"
   ]
  },
  {
   "cell_type": "code",
   "execution_count": 33,
   "metadata": {
    "colab": {
     "base_uri": "https://localhost:8080/"
    },
    "id": "18O7hezRkpGN",
    "outputId": "230520ff-6a3d-4c92-a12b-46b04371f521"
   },
   "outputs": [
    {
     "data": {
      "text/plain": [
       "{'credit': 1,\n",
       " 'account': 2,\n",
       " 'payment': 3,\n",
       " 'loan': 4,\n",
       " 'would': 5,\n",
       " 'bank': 6,\n",
       " 'time': 7,\n",
       " 'debt': 8,\n",
       " 'report': 9,\n",
       " 'told': 10,\n",
       " 'call': 11,\n",
       " 'nt': 12,\n",
       " 'mortgage': 13,\n",
       " 'company': 14,\n",
       " 'received': 15,\n",
       " 'card': 16,\n",
       " 'information': 17,\n",
       " 'called': 18,\n",
       " 'month': 19,\n",
       " 'day': 20,\n",
       " 'letter': 21,\n",
       " 'year': 22,\n",
       " 'pay': 23,\n",
       " 'never': 24,\n",
       " 'get': 25,\n",
       " 'paid': 26,\n",
       " 'sent': 27,\n",
       " 'number': 28,\n",
       " 'back': 29,\n",
       " 'said': 30,\n",
       " 'could': 31,\n",
       " 'collection': 32,\n",
       " 'phone': 33,\n",
       " 'also': 34,\n",
       " 'amount': 35,\n",
       " '2015': 36,\n",
       " 'home': 37,\n",
       " 'fee': 38,\n",
       " 'money': 39,\n",
       " 'due': 40,\n",
       " 'made': 41,\n",
       " 'service': 42,\n",
       " 'since': 43,\n",
       " 'asked': 44,\n",
       " 'u': 45,\n",
       " 'well': 46,\n",
       " 'balance': 47,\n",
       " 'charge': 48,\n",
       " 'check': 49,\n",
       " 'even': 50,\n",
       " 'still': 51,\n",
       " 'make': 52,\n",
       " 'interest': 53,\n",
       " 'one': 54,\n",
       " 'date': 55,\n",
       " 'late': 56,\n",
       " 'agency': 57,\n",
       " 'help': 58,\n",
       " 'bill': 59,\n",
       " 'reporting': 60,\n",
       " 'name': 61,\n",
       " 'contacted': 62,\n",
       " 'statement': 63,\n",
       " 'know': 64,\n",
       " 'request': 65,\n",
       " 'complaint': 66,\n",
       " 'new': 67,\n",
       " 'need': 68,\n",
       " 'modification': 69,\n",
       " 'issue': 70,\n",
       " 'customer': 71,\n",
       " 'document': 72,\n",
       " 'dispute': 73,\n",
       " 'file': 74,\n",
       " 'contact': 75,\n",
       " 'another': 76,\n",
       " 'address': 77,\n",
       " 'want': 78,\n",
       " 'please': 79,\n",
       " 'like': 80,\n",
       " 'stated': 81,\n",
       " 'chase': 82,\n",
       " 'email': 83,\n",
       " 'work': 84,\n",
       " 'send': 85,\n",
       " 'take': 86,\n",
       " 'last': 87,\n",
       " 'several': 88,\n",
       " 'requested': 89,\n",
       " 'state': 90,\n",
       " 'consumer': 91,\n",
       " 'went': 92,\n",
       " 'property': 93,\n",
       " 'process': 94,\n",
       " 'fargo': 95,\n",
       " 'without': 96,\n",
       " 'first': 97,\n",
       " 'going': 98,\n",
       " 'trying': 99,\n",
       " 'insurance': 100,\n",
       " 'bureau': 101,\n",
       " 'full': 102,\n",
       " 'representative': 103,\n",
       " 'got': 104,\n",
       " 'business': 105,\n",
       " 'see': 106,\n",
       " 'rate': 107,\n",
       " 'week': 108,\n",
       " 'however': 109,\n",
       " 'case': 110,\n",
       " 'provide': 111,\n",
       " 'law': 112,\n",
       " 'notice': 113,\n",
       " 'financial': 114,\n",
       " 'claim': 115,\n",
       " 'closed': 116,\n",
       " 'copy': 117,\n",
       " 'right': 118,\n",
       " 'house': 119,\n",
       " '15': 120,\n",
       " 'mail': 121,\n",
       " 'filed': 122,\n",
       " 'fund': 123,\n",
       " 'reported': 124,\n",
       " 'stating': 125,\n",
       " 'owe': 126,\n",
       " 'go': 127,\n",
       " 'able': 128,\n",
       " 'removed': 129,\n",
       " 'say': 130,\n",
       " 'charged': 131,\n",
       " 'spoke': 132,\n",
       " 'original': 133,\n",
       " 'provided': 134,\n",
       " 'fraud': 135,\n",
       " 'informed': 136,\n",
       " 'monthly': 137,\n",
       " 'put': 138,\n",
       " 'america': 139,\n",
       " 'receive': 140,\n",
       " 'attorney': 141,\n",
       " 'sale': 142,\n",
       " 'every': 143,\n",
       " 'equifa': 144,\n",
       " 'person': 145,\n",
       " 'later': 146,\n",
       " 'give': 147,\n",
       " 'paying': 148,\n",
       " 'foreclosure': 149,\n",
       " 'calling': 150,\n",
       " 'past': 151,\n",
       " 'keep': 152,\n",
       " 'online': 153,\n",
       " 'court': 154,\n",
       " 'tried': 155,\n",
       " 'score': 156,\n",
       " 'record': 157,\n",
       " 'show': 158,\n",
       " 'problem': 159,\n",
       " 'ocwen': 160,\n",
       " 'today': 161,\n",
       " 'office': 162,\n",
       " 'remove': 163,\n",
       " 'response': 164,\n",
       " 'refused': 165,\n",
       " 'nothing': 166,\n",
       " 'way': 167,\n",
       " 'took': 168,\n",
       " 'point': 169,\n",
       " 'matter': 170,\n",
       " 'someone': 171,\n",
       " 'applied': 172,\n",
       " 'anything': 173,\n",
       " 'done': 174,\n",
       " 'proof': 175,\n",
       " 'car': 176,\n",
       " 'different': 177,\n",
       " 'transaction': 178,\n",
       " 'department': 179,\n",
       " 'bankruptcy': 180,\n",
       " 'people': 181,\n",
       " 'regarding': 182,\n",
       " 'escrow': 183,\n",
       " 'used': 184,\n",
       " '2': 185,\n",
       " 'current': 186,\n",
       " 'ago': 187,\n",
       " 'owed': 188,\n",
       " 'item': 189,\n",
       " 'believe': 190,\n",
       " 'order': 191,\n",
       " 'needed': 192,\n",
       " 'already': 193,\n",
       " 'purchase': 194,\n",
       " 'yet': 195,\n",
       " 'making': 196,\n",
       " 'tell': 197,\n",
       " 'advised': 198,\n",
       " 'system': 199,\n",
       " 'many': 200,\n",
       " 'within': 201,\n",
       " 'offer': 202,\n",
       " 'manager': 203,\n",
       " 'practice': 204,\n",
       " 'find': 205,\n",
       " 'immediately': 206,\n",
       " 'collect': 207,\n",
       " 'stop': 208,\n",
       " 'documentation': 209,\n",
       " 'lender': 210,\n",
       " 'found': 211,\n",
       " 'agreement': 212,\n",
       " 'correct': 213,\n",
       " 'creditor': 214,\n",
       " 'given': 215,\n",
       " 'fact': 216,\n",
       " 'line': 217,\n",
       " 'submitted': 218,\n",
       " 'eperian': 219,\n",
       " 'reason': 220,\n",
       " 'checking': 221,\n",
       " 'sold': 222,\n",
       " 'action': 223,\n",
       " 'attached': 224,\n",
       " 'though': 225,\n",
       " 'error': 226,\n",
       " 'legal': 227,\n",
       " 'getting': 228,\n",
       " 'saying': 229,\n",
       " 'via': 230,\n",
       " 'application': 231,\n",
       " 'disputed': 232,\n",
       " '3': 233,\n",
       " 'use': 234,\n",
       " 'net': 235,\n",
       " 'continue': 236,\n",
       " 'signed': 237,\n",
       " 'gave': 238,\n",
       " 'security': 239,\n",
       " 'per': 240,\n",
       " 'personal': 241,\n",
       " 'transfer': 242,\n",
       " 'denied': 243,\n",
       " 'good': 244,\n",
       " 'asking': 245,\n",
       " 'feel': 246,\n",
       " 'supervisor': 247,\n",
       " 'contract': 248,\n",
       " 'situation': 249,\n",
       " 'income': 250,\n",
       " 'ca': 251,\n",
       " 'showing': 252,\n",
       " 'taken': 253,\n",
       " 'thing': 254,\n",
       " 'inquiry': 255,\n",
       " 'message': 256,\n",
       " 'fraudulent': 257,\n",
       " 'left': 258,\n",
       " 'ask': 259,\n",
       " 'additional': 260,\n",
       " 'attempt': 261,\n",
       " 'change': 262,\n",
       " 'refuse': 263,\n",
       " 'answer': 264,\n",
       " 'started': 265,\n",
       " 'act': 266,\n",
       " 'agreed': 267,\n",
       " 'finally': 268,\n",
       " 'speak': 269,\n",
       " 'eplained': 270,\n",
       " 'note': 271,\n",
       " 'nationstar': 272,\n",
       " 'job': 273,\n",
       " 'hour': 274,\n",
       " 'close': 275,\n",
       " 'place': 276,\n",
       " 'listed': 277,\n",
       " 'may': 278,\n",
       " 'old': 279,\n",
       " 'required': 280,\n",
       " 'agent': 281,\n",
       " 'returned': 282,\n",
       " 'question': 283,\n",
       " 'open': 284,\n",
       " 'rep': 285,\n",
       " 'negative': 286,\n",
       " 'deposit': 287,\n",
       " 'opened': 288,\n",
       " 'form': 289,\n",
       " 'wrong': 290,\n",
       " 'wanted': 291,\n",
       " 'husband': 292,\n",
       " 'closing': 293,\n",
       " 'much': 294,\n",
       " 'end': 295,\n",
       " 'paperwork': 296,\n",
       " 'federal': 297,\n",
       " 'dollar': 298,\n",
       " 'cfpb': 299,\n",
       " 'return': 300,\n",
       " '30': 301,\n",
       " 'two': 302,\n",
       " 'refund': 303,\n",
       " 'term': 304,\n",
       " 'hold': 305,\n",
       " 'transferred': 306,\n",
       " 'servicing': 307,\n",
       " 'written': 308,\n",
       " 'short': 309,\n",
       " 'status': 310,\n",
       " 'option': 311,\n",
       " 'set': 312,\n",
       " 'recently': 313,\n",
       " 'student': 314,\n",
       " 'fair': 315,\n",
       " 'unable': 316,\n",
       " 'result': 317,\n",
       " 'ever': 318,\n",
       " 'review': 319,\n",
       " 'history': 320,\n",
       " 'violation': 321,\n",
       " 'multiple': 322,\n",
       " 'around': 323,\n",
       " 'wife': 324,\n",
       " 'longer': 325,\n",
       " 'using': 326,\n",
       " 'thank': 327,\n",
       " 'program': 328,\n",
       " 'identity': 329,\n",
       " 'capital': 330,\n",
       " 'failed': 331,\n",
       " 'collector': 332,\n",
       " 'writing': 333,\n",
       " 'investigation': 334,\n",
       " 'mine': 335,\n",
       " 'period': 336,\n",
       " 'instead': 337,\n",
       " 'resolve': 338,\n",
       " 'care': 339,\n",
       " 'total': 340,\n",
       " 'must': 341,\n",
       " 'verify': 342,\n",
       " 'prior': 343,\n",
       " 'come': 344,\n",
       " 'came': 345,\n",
       " 'something': 346,\n",
       " 'approved': 347,\n",
       " 'family': 348,\n",
       " 'receiving': 349,\n",
       " 'social': 350,\n",
       " 'following': 351,\n",
       " 'numerous': 352,\n",
       " 'upon': 353,\n",
       " 'requesting': 354,\n",
       " 'placed': 355,\n",
       " 'cash': 356,\n",
       " 'website': 357,\n",
       " 'dated': 358,\n",
       " 'sure': 359,\n",
       " 'branch': 360,\n",
       " 'let': 361,\n",
       " 'ta': 362,\n",
       " 'working': 363,\n",
       " 'part': 364,\n",
       " 'debit': 365,\n",
       " 'plan': 366,\n",
       " 'incorrect': 367,\n",
       " 'paper': 368,\n",
       " 'understand': 369,\n",
       " 'settlement': 370,\n",
       " 'notified': 371,\n",
       " 'party': 372,\n",
       " 'everything': 373,\n",
       " 'assistance': 374,\n",
       " 'transunion': 375,\n",
       " 'based': 376,\n",
       " 'refinance': 377,\n",
       " 'vehicle': 378,\n",
       " '1': 379,\n",
       " 'changed': 380,\n",
       " 'sending': 381,\n",
       " 'access': 382,\n",
       " 'purchased': 383,\n",
       " 'available': 384,\n",
       " 'theft': 385,\n",
       " '5': 386,\n",
       " 'principal': 387,\n",
       " 'lost': 388,\n",
       " 'continued': 389,\n",
       " 'try': 390,\n",
       " 'taes': 391,\n",
       " 'hard': 392,\n",
       " 'either': 393,\n",
       " 'happened': 394,\n",
       " 'false': 395,\n",
       " 'think': 396,\n",
       " 'cost': 397,\n",
       " 'behind': 398,\n",
       " 'lien': 399,\n",
       " 'telling': 400,\n",
       " 'long': 401,\n",
       " 'paypal': 402,\n",
       " 'complete': 403,\n",
       " 'look': 404,\n",
       " 'overdraft': 405,\n",
       " 'receipt': 406,\n",
       " 'policy': 407,\n",
       " 'always': 408,\n",
       " 'previous': 409,\n",
       " 'offered': 410,\n",
       " 'including': 411,\n",
       " '2014': 412,\n",
       " 'almost': 413,\n",
       " 'least': 414,\n",
       " 'billing': 415,\n",
       " 'currently': 416,\n",
       " 'finance': 417,\n",
       " 'attempted': 418,\n",
       " 'recovery': 419,\n",
       " '4': 420,\n",
       " 'american': 421,\n",
       " 'citi': 422,\n",
       " 'allowed': 423,\n",
       " 'clear': 424,\n",
       " 'mailed': 425,\n",
       " 'title': 426,\n",
       " 'apply': 427,\n",
       " 'validation': 428,\n",
       " 'info': 429,\n",
       " 'according': 430,\n",
       " 'fa': 431,\n",
       " 'illegal': 432,\n",
       " 'mistake': 433,\n",
       " 'kept': 434,\n",
       " 'resolved': 435,\n",
       " 'id': 436,\n",
       " 'protection': 437,\n",
       " 'anyone': 438,\n",
       " 'appraisal': 439,\n",
       " 'verified': 440,\n",
       " 'certified': 441,\n",
       " 'servicer': 442,\n",
       " 'medical': 443,\n",
       " 'taking': 444,\n",
       " 'included': 445,\n",
       " 'sign': 446,\n",
       " 'communication': 447,\n",
       " 'police': 448,\n",
       " 'else': 449,\n",
       " 'filing': 450,\n",
       " 'repeatedly': 451,\n",
       " 'le': 452,\n",
       " 'life': 453,\n",
       " 'verification': 454,\n",
       " 'actually': 455,\n",
       " 'enough': 456,\n",
       " 'three': 457,\n",
       " 'away': 458,\n",
       " 'second': 459,\n",
       " 'employee': 460,\n",
       " 'default': 461,\n",
       " '10': 462,\n",
       " 'allow': 463,\n",
       " 'start': 464,\n",
       " 'really': 465,\n",
       " 'free': 466,\n",
       " 'aware': 467,\n",
       " '6': 468,\n",
       " 'inaccurate': 469,\n",
       " 'etc': 470,\n",
       " 'thought': 471,\n",
       " 'accept': 472,\n",
       " 'lower': 473,\n",
       " 'payoff': 474,\n",
       " 'live': 475,\n",
       " 'talk': 476,\n",
       " 'boa': 477,\n",
       " 'clearly': 478,\n",
       " 'despite': 479,\n",
       " 'issued': 480,\n",
       " 'value': 481,\n",
       " 'therefore': 482,\n",
       " 'heard': 483,\n",
       " 'limit': 484,\n",
       " 'possible': 485,\n",
       " 'directly': 486,\n",
       " 'responded': 487,\n",
       " 'added': 488,\n",
       " 'fcra': 489,\n",
       " 'llc': 490,\n",
       " 'began': 491,\n",
       " 'eplain': 492,\n",
       " 'resolution': 493,\n",
       " 'mother': 494,\n",
       " 'concern': 495,\n",
       " 'citibank': 496,\n",
       " 'decided': 497,\n",
       " 'activity': 498,\n",
       " 'completed': 499,\n",
       " 'alleged': 500,\n",
       " 'conversation': 501,\n",
       " 'afford': 502,\n",
       " 'respond': 503,\n",
       " 'loss': 504,\n",
       " 'seems': 505,\n",
       " 'delinquent': 506,\n",
       " 'supposed': 507,\n",
       " '7': 508,\n",
       " 'high': 509,\n",
       " 'type': 510,\n",
       " 'caused': 511,\n",
       " 'missed': 512,\n",
       " 'responsible': 513,\n",
       " 'along': 514,\n",
       " 'private': 515,\n",
       " 'addition': 516,\n",
       " 'final': 517,\n",
       " 'auto': 518,\n",
       " 'green': 519,\n",
       " 'direct': 520,\n",
       " 'noticed': 521,\n",
       " 'victim': 522,\n",
       " 'cell': 523,\n",
       " 'plus': 524,\n",
       " 'tree': 525,\n",
       " 'attempting': 526,\n",
       " 'bad': 527,\n",
       " 'confirmed': 528,\n",
       " 'damage': 529,\n",
       " 'saving': 530,\n",
       " 'cancel': 531,\n",
       " 'eplanation': 532,\n",
       " 'discover': 533,\n",
       " 'navient': 534,\n",
       " 'authorized': 535,\n",
       " 'epress': 536,\n",
       " 'correspondence': 537,\n",
       " 'cancelled': 538,\n",
       " 'deleted': 539,\n",
       " 'telephone': 540,\n",
       " 'update': 541,\n",
       " 'deal': 542,\n",
       " 'owner': 543,\n",
       " 'borrower': 544,\n",
       " 'continues': 545,\n",
       " 'deed': 546,\n",
       " 'charging': 547,\n",
       " 'union': 548,\n",
       " 'third': 549,\n",
       " 'checked': 550,\n",
       " 'contacting': 551,\n",
       " 'judgment': 552,\n",
       " 'knowledge': 553,\n",
       " 'signature': 554,\n",
       " 'simply': 555,\n",
       " 'lawyer': 556,\n",
       " 'increase': 557,\n",
       " 'inc': 558,\n",
       " 'banking': 559,\n",
       " 'recorded': 560,\n",
       " 'school': 561,\n",
       " 'management': 562,\n",
       " 'rude': 563,\n",
       " 'investigate': 564,\n",
       " 'entire': 565,\n",
       " 'minute': 566,\n",
       " 'detail': 567,\n",
       " 'submit': 568,\n",
       " 'chapter': 569,\n",
       " 'posted': 570,\n",
       " 'wait': 571,\n",
       " 'unfair': 572,\n",
       " 'looking': 573,\n",
       " 'regard': 574,\n",
       " 'decision': 575,\n",
       " 'real': 576,\n",
       " 'fied': 577,\n",
       " 'trust': 578,\n",
       " 'showed': 579,\n",
       " 'updated': 580,\n",
       " 'mean': 581,\n",
       " 'knew': 582,\n",
       " 'firm': 583,\n",
       " 'hardship': 584,\n",
       " 'forward': 585,\n",
       " 'hung': 586,\n",
       " 'list': 587,\n",
       " 'soon': 588,\n",
       " 'bought': 589,\n",
       " 'obtain': 590,\n",
       " 'completely': 591,\n",
       " 'notification': 592,\n",
       " 'giving': 593,\n",
       " 'previously': 594,\n",
       " 'although': 595,\n",
       " 'claimed': 596,\n",
       " 'store': 597,\n",
       " 'homeowner': 598,\n",
       " 'evidence': 599,\n",
       " 'minimum': 600,\n",
       " 'page': 601,\n",
       " 'outstanding': 602,\n",
       " 'buyer': 603,\n",
       " 'valid': 604,\n",
       " '100000': 605,\n",
       " 'county': 606,\n",
       " 'higher': 607,\n",
       " 'held': 608,\n",
       " 'buy': 609,\n",
       " 'wrote': 610,\n",
       " 'section': 611,\n",
       " 'local': 612,\n",
       " 'client': 613,\n",
       " 'prove': 614,\n",
       " 'moved': 615,\n",
       " 'etra': 616,\n",
       " 'corrected': 617,\n",
       " 'talked': 618,\n",
       " 'occasion': 619,\n",
       " 'stopped': 620,\n",
       " 'move': 621,\n",
       " 'harassing': 622,\n",
       " 'trial': 623,\n",
       " 'leave': 624,\n",
       " 'daughter': 625,\n",
       " 'son': 626,\n",
       " 'scam': 627,\n",
       " 'cover': 628,\n",
       " 'best': 629,\n",
       " 'release': 630,\n",
       " 'approimately': 631,\n",
       " 'behalf': 632,\n",
       " 'lived': 633,\n",
       " 'forced': 634,\n",
       " 'faed': 635,\n",
       " 'acct': 636,\n",
       " 'unauthorized': 637,\n",
       " 'turned': 638,\n",
       " 'sell': 639,\n",
       " 'run': 640,\n",
       " 'member': 641,\n",
       " 'named': 642,\n",
       " 'judgement': 643,\n",
       " 'initial': 644,\n",
       " 'threatening': 645,\n",
       " 'fi': 646,\n",
       " 'claiming': 647,\n",
       " 'confirmation': 648,\n",
       " 'follow': 649,\n",
       " 'worked': 650,\n",
       " 'portfolio': 651,\n",
       " 'merchant': 652,\n",
       " 'indicated': 653,\n",
       " 'qualify': 654,\n",
       " 'early': 655,\n",
       " '10000': 656,\n",
       " 'synchrony': 657,\n",
       " 'reference': 658,\n",
       " 'arrangement': 659,\n",
       " 'support': 660,\n",
       " 'apartment': 661,\n",
       " 'fdcpa': 662,\n",
       " 'happen': 663,\n",
       " 'individual': 664,\n",
       " 'delinquency': 665,\n",
       " 'far': 666,\n",
       " 'lot': 667,\n",
       " 'read': 668,\n",
       " 'assured': 669,\n",
       " 'promised': 670,\n",
       " 'processed': 671,\n",
       " 'requirement': 672,\n",
       " 'gone': 673,\n",
       " 'approval': 674,\n",
       " 'deposited': 675,\n",
       " 'accurate': 676,\n",
       " 'b': 677,\n",
       " 'associate': 678,\n",
       " 'holder': 679,\n",
       " 'single': 680,\n",
       " 'true': 681,\n",
       " 'recent': 682,\n",
       " 'waiting': 683,\n",
       " 'discharged': 684,\n",
       " 'declined': 685,\n",
       " 'employment': 686,\n",
       " 'lawsuit': 687,\n",
       " 'willing': 688,\n",
       " 'proper': 689,\n",
       " 'dept': 690,\n",
       " 'authorization': 691,\n",
       " 'discovered': 692,\n",
       " 'passed': 693,\n",
       " 'equity': 694,\n",
       " 'public': 695,\n",
       " 'timely': 696,\n",
       " 'properly': 697,\n",
       " 'hope': 698,\n",
       " 'became': 699,\n",
       " 'benefit': 700,\n",
       " 'small': 701,\n",
       " 'unless': 702,\n",
       " 'pnc': 703,\n",
       " 'responsibility': 704,\n",
       " 'government': 705,\n",
       " 'appears': 706,\n",
       " 'employer': 707,\n",
       " 'annual': 708,\n",
       " 'idea': 709,\n",
       " 'deceptive': 710,\n",
       " 'child': 711,\n",
       " 'package': 712,\n",
       " 'accepted': 713,\n",
       " 'alert': 714,\n",
       " 'lease': 715,\n",
       " 'disputing': 716,\n",
       " 'delete': 717,\n",
       " 'reach': 718,\n",
       " 'morning': 719,\n",
       " 'assist': 720,\n",
       " 'voicemail': 721,\n",
       " 'cause': 722,\n",
       " 'pending': 723,\n",
       " 'officer': 724,\n",
       " 'scheduled': 725,\n",
       " 'reached': 726,\n",
       " 'settle': 727,\n",
       " 'couple': 728,\n",
       " 'lack': 729,\n",
       " '50000': 730,\n",
       " 'code': 731,\n",
       " 'better': 732,\n",
       " 'hospital': 733,\n",
       " 'settled': 734,\n",
       " 'saw': 735,\n",
       " 'institution': 736,\n",
       " 'effort': 737,\n",
       " 'missing': 738,\n",
       " 'beginning': 739,\n",
       " 'rent': 740,\n",
       " 'stolen': 741,\n",
       " 'solution': 742,\n",
       " 'course': 743,\n",
       " 'general': 744,\n",
       " 'manner': 745,\n",
       " 'emailed': 746,\n",
       " 'data': 747,\n",
       " 'kind': 748,\n",
       " 'demand': 749,\n",
       " 'pmi': 750,\n",
       " 'violated': 751,\n",
       " 'pulled': 752,\n",
       " 'permission': 753,\n",
       " 'providing': 754,\n",
       " 'inform': 755,\n",
       " 'originally': 756,\n",
       " 'refusing': 757,\n",
       " 'little': 758,\n",
       " 'apparently': 759,\n",
       " 'research': 760,\n",
       " 'wo': 761,\n",
       " 'rule': 762,\n",
       " 'lending': 763,\n",
       " 'condition': 764,\n",
       " 'twice': 765,\n",
       " 'speaking': 766,\n",
       " 'fine': 767,\n",
       " 'denial': 768,\n",
       " 'ended': 769,\n",
       " 'none': 770,\n",
       " '2013': 771,\n",
       " 'license': 772,\n",
       " 'site': 773,\n",
       " 'processing': 774,\n",
       " 'cease': 775,\n",
       " 'living': 776,\n",
       " 'validate': 777,\n",
       " 'turn': 778,\n",
       " 'hamp': 779,\n",
       " 'stay': 780,\n",
       " 'threatened': 781,\n",
       " 'advance': 782,\n",
       " 'automatic': 783,\n",
       " 'avoid': 784,\n",
       " 'add': 785,\n",
       " 'reviewed': 786,\n",
       " 'spent': 787,\n",
       " 'father': 788,\n",
       " 'va': 789,\n",
       " 'tactic': 790,\n",
       " 'confirm': 791,\n",
       " 'increased': 792,\n",
       " 'california': 793,\n",
       " 'credited': 794,\n",
       " 'repair': 795,\n",
       " 'standing': 796,\n",
       " 'limitation': 797,\n",
       " 'whole': 798,\n",
       " 'specifically': 799,\n",
       " 'midland': 800,\n",
       " 'suntrust': 801,\n",
       " 'repayment': 802,\n",
       " 'ability': 803,\n",
       " 'atm': 804,\n",
       " 'fault': 805,\n",
       " 'regular': 806,\n",
       " 'causing': 807,\n",
       " 'obtained': 808,\n",
       " 'seterus': 809,\n",
       " 'cleared': 810,\n",
       " 'correctly': 811,\n",
       " 'daily': 812,\n",
       " 'ignored': 813,\n",
       " 'pull': 814,\n",
       " 'procedure': 815,\n",
       " 'price': 816,\n",
       " 'consent': 817,\n",
       " 'purpose': 818,\n",
       " 'voice': 819,\n",
       " 'answered': 820,\n",
       " 'harassment': 821,\n",
       " 'coming': 822,\n",
       " 'etremely': 823,\n",
       " 'actual': 824,\n",
       " 'seem': 825,\n",
       " 'sps': 826,\n",
       " 'rather': 827,\n",
       " 'thru': 828,\n",
       " 'remaining': 829,\n",
       " 'yes': 830,\n",
       " 'difficult': 831,\n",
       " 'assigned': 832,\n",
       " 'looked': 833,\n",
       " 'fha': 834,\n",
       " 'trustee': 835,\n",
       " 'estate': 836,\n",
       " 'product': 837,\n",
       " 'post': 838,\n",
       " 'located': 839,\n",
       " 'scottrade': 840,\n",
       " 'step': 841,\n",
       " 'known': 842,\n",
       " 'e': 843,\n",
       " 'opportunity': 844,\n",
       " 'national': 845,\n",
       " 'foreclose': 846,\n",
       " 'others': 847,\n",
       " 'low': 848,\n",
       " 'neither': 849,\n",
       " '60': 850,\n",
       " 'trade': 851,\n",
       " '8': 852,\n",
       " 'necessary': 853,\n",
       " 'bring': 854,\n",
       " 'friend': 855,\n",
       " 'monday': 856,\n",
       " 'include': 857,\n",
       " 'separate': 858,\n",
       " 'woman': 859,\n",
       " 'reward': 860,\n",
       " 'seller': 861,\n",
       " '20000': 862,\n",
       " 'asset': 863,\n",
       " 'wage': 864,\n",
       " 'occurred': 865,\n",
       " 'discus': 866,\n",
       " 'usaa': 867,\n",
       " 'future': 868,\n",
       " 'involved': 869,\n",
       " 'night': 870,\n",
       " 'certain': 871,\n",
       " 'leaving': 872,\n",
       " 'towards': 873,\n",
       " 'obligation': 874,\n",
       " 'refunded': 875,\n",
       " 'lose': 876,\n",
       " 'statute': 877,\n",
       " 'cashed': 878,\n",
       " 'mentioned': 879,\n",
       " 'rating': 880,\n",
       " 'half': 881,\n",
       " 'advise': 882,\n",
       " 'dealing': 883,\n",
       " 'mailing': 884,\n",
       " 'repeated': 885,\n",
       " 'collecting': 886,\n",
       " 'applying': 887,\n",
       " 'yesterday': 888,\n",
       " 'thus': 889,\n",
       " 'failure': 890,\n",
       " '12': 891,\n",
       " 'spoken': 892,\n",
       " 'agree': 893,\n",
       " 'ame': 894,\n",
       " 'penalty': 895,\n",
       " 'man': 896,\n",
       " 'delay': 897,\n",
       " 'computer': 898,\n",
       " 'forbearance': 899,\n",
       " 'associated': 900,\n",
       " 'disclosure': 901,\n",
       " 'usc': 902,\n",
       " 'great': 903,\n",
       " 'entered': 904,\n",
       " 'hear': 905,\n",
       " 'dont': 906,\n",
       " 'brought': 907,\n",
       " 'college': 908,\n",
       " 'major': 909,\n",
       " 'notify': 910,\n",
       " 'lady': 911,\n",
       " 'unfortunately': 912,\n",
       " 'talking': 913,\n",
       " 'dropped': 914,\n",
       " 'related': 915,\n",
       " 'reasonable': 916,\n",
       " 'payday': 917,\n",
       " 'tea': 918,\n",
       " 'lie': 919,\n",
       " 'specific': 920,\n",
       " 'concerning': 921,\n",
       " 'unpaid': 922,\n",
       " 'belong': 923,\n",
       " 'large': 924,\n",
       " 'impossible': 925,\n",
       " 'epired': 926,\n",
       " 'principle': 927,\n",
       " 'ftc': 928,\n",
       " 'automated': 929,\n",
       " 'ecept': 930,\n",
       " 'appeal': 931,\n",
       " 'friday': 932,\n",
       " 'td': 933,\n",
       " 'parent': 934,\n",
       " 'felt': 935,\n",
       " 'citizen': 936,\n",
       " 'investigated': 937,\n",
       " '100': 938,\n",
       " 'honor': 939,\n",
       " 'hit': 940,\n",
       " 'write': 941,\n",
       " 'worth': 942,\n",
       " 'faith': 943,\n",
       " 'cosigner': 944,\n",
       " 'absolutely': 945,\n",
       " 'withdrawal': 946,\n",
       " 'followed': 947,\n",
       " 'starting': 948,\n",
       " '30000': 949,\n",
       " 'market': 950,\n",
       " 'funding': 951,\n",
       " 'hand': 952,\n",
       " 'word': 953,\n",
       " 'legally': 954,\n",
       " 'understanding': 955,\n",
       " 'reduced': 956,\n",
       " 'internet': 957,\n",
       " 'served': 958,\n",
       " 'lied': 959,\n",
       " 'appear': 960,\n",
       " 'holding': 961,\n",
       " 'bonus': 962,\n",
       " 'owned': 963,\n",
       " 'area': 964,\n",
       " 'considered': 965,\n",
       " '000': 966,\n",
       " 'suit': 967,\n",
       " 'affidavit': 968,\n",
       " 'electronic': 969,\n",
       " 'thanks': 970,\n",
       " 'advantage': 971,\n",
       " 'regulation': 972,\n",
       " 'story': 973,\n",
       " 'proceeded': 974,\n",
       " 'indicating': 975,\n",
       " 'sue': 976,\n",
       " 'greentree': 977,\n",
       " 'hud': 978,\n",
       " 'demanding': 979,\n",
       " 'reply': 980,\n",
       " 'epenses': 981,\n",
       " 'nearly': 982,\n",
       " 'especially': 983,\n",
       " 'rental': 984,\n",
       " 'derogatory': 985,\n",
       " 'treated': 986,\n",
       " 'sl': 987,\n",
       " 'realized': 988,\n",
       " 'concerned': 989,\n",
       " 'gotten': 990,\n",
       " 'center': 991,\n",
       " 'investor': 992,\n",
       " 'judge': 993,\n",
       " 'fully': 994,\n",
       " 'erroneous': 995,\n",
       " 'knowing': 996,\n",
       " 'predatory': 997,\n",
       " 'meet': 998,\n",
       " 'attention': 999,\n",
       " 'group': 1000,\n",
       " ...}"
      ]
     },
     "execution_count": 33,
     "metadata": {},
     "output_type": "execute_result"
    }
   ],
   "source": [
    "word_index"
   ]
  },
  {
   "cell_type": "code",
   "execution_count": 34,
   "metadata": {
    "id": "YIpPgeHl0fWI"
   },
   "outputs": [],
   "source": [
    "X = tokenizer.texts_to_sequences(df['consumer_complaint_narrative'].values)"
   ]
  },
  {
   "cell_type": "code",
   "execution_count": 35,
   "metadata": {
    "colab": {
     "base_uri": "https://localhost:8080/"
    },
    "id": "ZmrFhc_W2HHO",
    "outputId": "7fd3e716-e849-4fb1-ff9e-893b96486158"
   },
   "outputs": [
    {
     "name": "stdout",
     "output_type": "stream",
     "text": [
      "Shape of data tensor: (48270, 250)\n"
     ]
    }
   ],
   "source": [
    "from tensorflow.keras.preprocessing.sequence import pad_sequences\n",
    "\n",
    "X = pad_sequences(X, maxlen=MAX_SEQUENCE_LENGTH)\n",
    "print('Shape of data tensor:', X.shape)"
   ]
  },
  {
   "cell_type": "code",
   "execution_count": 36,
   "metadata": {
    "colab": {
     "base_uri": "https://localhost:8080/"
    },
    "id": "dmMtffuS0xdG",
    "outputId": "851ec9ce-8d19-4441-9ba2-305f6866d7ab"
   },
   "outputs": [
    {
     "data": {
      "text/plain": [
       "[596,\n",
       " 126,\n",
       " 3516,\n",
       " 22,\n",
       " 479,\n",
       " 175,\n",
       " 3,\n",
       " 27,\n",
       " 1146,\n",
       " 49,\n",
       " 22771,\n",
       " 1117,\n",
       " 3516,\n",
       " 236,\n",
       " 2073,\n",
       " 126,\n",
       " 32,\n",
       " 57,\n",
       " 208,\n",
       " 821,\n",
       " 59,\n",
       " 193,\n",
       " 26,\n",
       " 1172,\n",
       " 22,\n",
       " 187]"
      ]
     },
     "execution_count": 36,
     "metadata": {},
     "output_type": "execute_result"
    }
   ],
   "source": [
    "tokenizer.texts_to_sequences(df['consumer_complaint_narrative'].values)[0]"
   ]
  },
  {
   "cell_type": "code",
   "execution_count": 37,
   "metadata": {
    "colab": {
     "base_uri": "https://localhost:8080/"
    },
    "id": "CsClRXIJ1cc5",
    "outputId": "82894f43-65e7-4c01-d8a1-9c60ce84c150"
   },
   "outputs": [
    {
     "data": {
      "text/plain": [
       "array([    0,     0,     0,     0,     0,     0,     0,     0,     0,\n",
       "           0,     0,     0,     0,     0,     0,     0,     0,     0,\n",
       "           0,     0,     0,     0,     0,     0,     0,     0,     0,\n",
       "           0,     0,     0,     0,     0,     0,     0,     0,     0,\n",
       "           0,     0,     0,     0,     0,     0,     0,     0,     0,\n",
       "           0,     0,     0,     0,     0,     0,     0,     0,     0,\n",
       "           0,     0,     0,     0,     0,     0,     0,     0,     0,\n",
       "           0,     0,     0,     0,     0,     0,     0,     0,     0,\n",
       "           0,     0,     0,     0,     0,     0,     0,     0,     0,\n",
       "           0,     0,     0,     0,     0,     0,     0,     0,     0,\n",
       "           0,     0,     0,     0,     0,     0,     0,     0,     0,\n",
       "           0,     0,     0,     0,     0,     0,     0,     0,     0,\n",
       "           0,     0,     0,     0,     0,     0,     0,     0,     0,\n",
       "           0,     0,     0,     0,     0,     0,     0,     0,     0,\n",
       "           0,     0,     0,     0,     0,     0,     0,     0,     0,\n",
       "           0,     0,     0,     0,     0,     0,     0,     0,     0,\n",
       "           0,     0,     0,     0,     0,     0,     0,     0,     0,\n",
       "           0,     0,     0,     0,     0,     0,     0,     0,     0,\n",
       "           0,     0,     0,     0,     0,     0,     0,     0,     0,\n",
       "           0,     0,     0,     0,     0,     0,     0,     0,     0,\n",
       "           0,     0,     0,     0,     0,     0,     0,     0,     0,\n",
       "           0,     0,     0,     0,     0,     0,     0,     0,     0,\n",
       "           0,     0,     0,     0,     0,     0,     0,     0,     0,\n",
       "           0,     0,     0,     0,     0,     0,     0,     0,     0,\n",
       "           0,     0,     0,     0,     0,     0,     0,     0,   596,\n",
       "         126,  3516,    22,   479,   175,     3,    27,  1146,    49,\n",
       "       22771,  1117,  3516,   236,  2073,   126,    32,    57,   208,\n",
       "         821,    59,   193,    26,  1172,    22,   187], dtype=int32)"
      ]
     },
     "execution_count": 37,
     "metadata": {},
     "output_type": "execute_result"
    }
   ],
   "source": [
    "X[0]"
   ]
  },
  {
   "cell_type": "code",
   "execution_count": 56,
   "metadata": {
    "colab": {
     "base_uri": "https://localhost:8080/"
    },
    "id": "QB-sbrlQ2eAZ",
    "outputId": "16f69579-bd06-4d61-ac67-9ad3c0c9bbdc"
   },
   "outputs": [
    {
     "name": "stdout",
     "output_type": "stream",
     "text": [
      "Shape of label tensor: (48270, 4)\n"
     ]
    }
   ],
   "source": [
    "Y = pd.get_dummies(df['product']).values\n",
    "print('Shape of label tensor:', Y.shape)"
   ]
  },
  {
   "cell_type": "code",
   "execution_count": 73,
   "metadata": {
    "colab": {
     "base_uri": "https://localhost:8080/",
     "height": 426
    },
    "id": "wJaXBtf1Dn-M",
    "outputId": "2ecf5110-51ca-4ee1-806a-e371735fa0ed"
   },
   "outputs": [
    {
     "data": {
      "text/html": [
       "\n",
       "  <div id=\"df-47d86dbe-38de-4c82-90e8-a515698acdd0\">\n",
       "    <div class=\"colab-df-container\">\n",
       "      <div>\n",
       "<style scoped>\n",
       "    .dataframe tbody tr th:only-of-type {\n",
       "        vertical-align: middle;\n",
       "    }\n",
       "\n",
       "    .dataframe tbody tr th {\n",
       "        vertical-align: top;\n",
       "    }\n",
       "\n",
       "    .dataframe thead th {\n",
       "        text-align: right;\n",
       "    }\n",
       "</style>\n",
       "<table border=\"1\" class=\"dataframe\">\n",
       "  <thead>\n",
       "    <tr style=\"text-align: right;\">\n",
       "      <th></th>\n",
       "      <th>consumer_complaint_narrative</th>\n",
       "      <th>product</th>\n",
       "    </tr>\n",
       "  </thead>\n",
       "  <tbody>\n",
       "    <tr>\n",
       "      <th>0</th>\n",
       "      <td>claimed owe 2700 year despite proof payment se...</td>\n",
       "      <td>Others Services</td>\n",
       "    </tr>\n",
       "    <tr>\n",
       "      <th>1</th>\n",
       "      <td>due inconsistency amount owed told bank amount...</td>\n",
       "      <td>Loan Related</td>\n",
       "    </tr>\n",
       "    <tr>\n",
       "      <th>2</th>\n",
       "      <td>wage earned job decreased almost half knew tro...</td>\n",
       "      <td>Others Services</td>\n",
       "    </tr>\n",
       "    <tr>\n",
       "      <th>3</th>\n",
       "      <td>open current mortgage chase bank # chase repor...</td>\n",
       "      <td>Others Services</td>\n",
       "    </tr>\n",
       "    <tr>\n",
       "      <th>4</th>\n",
       "      <td>submitted time submitted complaint dealt rushm...</td>\n",
       "      <td>Others Services</td>\n",
       "    </tr>\n",
       "    <tr>\n",
       "      <th>5</th>\n",
       "      <td>eperian reporting open current mortgage loan b...</td>\n",
       "      <td>Others Services</td>\n",
       "    </tr>\n",
       "    <tr>\n",
       "      <th>6</th>\n",
       "      <td>complaint well fargo bank violation term condi...</td>\n",
       "      <td>Others Services</td>\n",
       "    </tr>\n",
       "    <tr>\n",
       "      <th>7</th>\n",
       "      <td>spoke green tree representative 2014 annual es...</td>\n",
       "      <td>Others Services</td>\n",
       "    </tr>\n",
       "    <tr>\n",
       "      <th>8</th>\n",
       "      <td>opened bank america credit card 1520 year ago ...</td>\n",
       "      <td>Credit Card Related</td>\n",
       "    </tr>\n",
       "    <tr>\n",
       "      <th>9</th>\n",
       "      <td>applied loan purchased vehicle month 2014 told...</td>\n",
       "      <td>Loan Related</td>\n",
       "    </tr>\n",
       "    <tr>\n",
       "      <th>10</th>\n",
       "      <td>disappointed cfpb help resolve fraudulant loan...</td>\n",
       "      <td>Others Services</td>\n",
       "    </tr>\n",
       "    <tr>\n",
       "      <th>11</th>\n",
       "      <td>mel harris assoc used deceptive collection pra...</td>\n",
       "      <td>Credit Card Related</td>\n",
       "    </tr>\n",
       "  </tbody>\n",
       "</table>\n",
       "</div>\n",
       "      <button class=\"colab-df-convert\" onclick=\"convertToInteractive('df-47d86dbe-38de-4c82-90e8-a515698acdd0')\"\n",
       "              title=\"Convert this dataframe to an interactive table.\"\n",
       "              style=\"display:none;\">\n",
       "        \n",
       "  <svg xmlns=\"http://www.w3.org/2000/svg\" height=\"24px\"viewBox=\"0 0 24 24\"\n",
       "       width=\"24px\">\n",
       "    <path d=\"M0 0h24v24H0V0z\" fill=\"none\"/>\n",
       "    <path d=\"M18.56 5.44l.94 2.06.94-2.06 2.06-.94-2.06-.94-.94-2.06-.94 2.06-2.06.94zm-11 1L8.5 8.5l.94-2.06 2.06-.94-2.06-.94L8.5 2.5l-.94 2.06-2.06.94zm10 10l.94 2.06.94-2.06 2.06-.94-2.06-.94-.94-2.06-.94 2.06-2.06.94z\"/><path d=\"M17.41 7.96l-1.37-1.37c-.4-.4-.92-.59-1.43-.59-.52 0-1.04.2-1.43.59L10.3 9.45l-7.72 7.72c-.78.78-.78 2.05 0 2.83L4 21.41c.39.39.9.59 1.41.59.51 0 1.02-.2 1.41-.59l7.78-7.78 2.81-2.81c.8-.78.8-2.07 0-2.86zM5.41 20L4 18.59l7.72-7.72 1.47 1.35L5.41 20z\"/>\n",
       "  </svg>\n",
       "      </button>\n",
       "      \n",
       "  <style>\n",
       "    .colab-df-container {\n",
       "      display:flex;\n",
       "      flex-wrap:wrap;\n",
       "      gap: 12px;\n",
       "    }\n",
       "\n",
       "    .colab-df-convert {\n",
       "      background-color: #E8F0FE;\n",
       "      border: none;\n",
       "      border-radius: 50%;\n",
       "      cursor: pointer;\n",
       "      display: none;\n",
       "      fill: #1967D2;\n",
       "      height: 32px;\n",
       "      padding: 0 0 0 0;\n",
       "      width: 32px;\n",
       "    }\n",
       "\n",
       "    .colab-df-convert:hover {\n",
       "      background-color: #E2EBFA;\n",
       "      box-shadow: 0px 1px 2px rgba(60, 64, 67, 0.3), 0px 1px 3px 1px rgba(60, 64, 67, 0.15);\n",
       "      fill: #174EA6;\n",
       "    }\n",
       "\n",
       "    [theme=dark] .colab-df-convert {\n",
       "      background-color: #3B4455;\n",
       "      fill: #D2E3FC;\n",
       "    }\n",
       "\n",
       "    [theme=dark] .colab-df-convert:hover {\n",
       "      background-color: #434B5C;\n",
       "      box-shadow: 0px 1px 3px 1px rgba(0, 0, 0, 0.15);\n",
       "      filter: drop-shadow(0px 1px 2px rgba(0, 0, 0, 0.3));\n",
       "      fill: #FFFFFF;\n",
       "    }\n",
       "  </style>\n",
       "\n",
       "      <script>\n",
       "        const buttonEl =\n",
       "          document.querySelector('#df-47d86dbe-38de-4c82-90e8-a515698acdd0 button.colab-df-convert');\n",
       "        buttonEl.style.display =\n",
       "          google.colab.kernel.accessAllowed ? 'block' : 'none';\n",
       "\n",
       "        async function convertToInteractive(key) {\n",
       "          const element = document.querySelector('#df-47d86dbe-38de-4c82-90e8-a515698acdd0');\n",
       "          const dataTable =\n",
       "            await google.colab.kernel.invokeFunction('convertToInteractive',\n",
       "                                                     [key], {});\n",
       "          if (!dataTable) return;\n",
       "\n",
       "          const docLinkHtml = 'Like what you see? Visit the ' +\n",
       "            '<a target=\"_blank\" href=https://colab.research.google.com/notebooks/data_table.ipynb>data table notebook</a>'\n",
       "            + ' to learn more about interactive tables.';\n",
       "          element.innerHTML = '';\n",
       "          dataTable['output_type'] = 'display_data';\n",
       "          await google.colab.output.renderOutput(dataTable, element);\n",
       "          const docLink = document.createElement('div');\n",
       "          docLink.innerHTML = docLinkHtml;\n",
       "          element.appendChild(docLink);\n",
       "        }\n",
       "      </script>\n",
       "    </div>\n",
       "  </div>\n",
       "  "
      ],
      "text/plain": [
       "                         consumer_complaint_narrative              product\n",
       "0   claimed owe 2700 year despite proof payment se...      Others Services\n",
       "1   due inconsistency amount owed told bank amount...         Loan Related\n",
       "2   wage earned job decreased almost half knew tro...      Others Services\n",
       "3   open current mortgage chase bank # chase repor...      Others Services\n",
       "4   submitted time submitted complaint dealt rushm...      Others Services\n",
       "5   eperian reporting open current mortgage loan b...      Others Services\n",
       "6   complaint well fargo bank violation term condi...      Others Services\n",
       "7   spoke green tree representative 2014 annual es...      Others Services\n",
       "8   opened bank america credit card 1520 year ago ...  Credit Card Related\n",
       "9   applied loan purchased vehicle month 2014 told...         Loan Related\n",
       "10  disappointed cfpb help resolve fraudulant loan...      Others Services\n",
       "11  mel harris assoc used deceptive collection pra...  Credit Card Related"
      ]
     },
     "execution_count": 73,
     "metadata": {},
     "output_type": "execute_result"
    }
   ],
   "source": [
    "df.head(12)"
   ]
  },
  {
   "cell_type": "code",
   "execution_count": 76,
   "metadata": {
    "colab": {
     "base_uri": "https://localhost:8080/"
    },
    "id": "PVcawEndSFyq",
    "outputId": "542ce17a-5e6e-4fa7-c4ca-64a69ce24b2d"
   },
   "outputs": [
    {
     "data": {
      "text/plain": [
       "array([0, 1, 0, 0], dtype=uint8)"
      ]
     },
     "execution_count": 76,
     "metadata": {},
     "output_type": "execute_result"
    }
   ],
   "source": [
    "Y[11]"
   ]
  },
  {
   "cell_type": "code",
   "execution_count": null,
   "metadata": {
    "id": "nbfc_0MgRLyC"
   },
   "outputs": [],
   "source": [
    "## ['Bank Services','Credit Card Related','Loan Related','Others Services']"
   ]
  },
  {
   "cell_type": "code",
   "execution_count": 60,
   "metadata": {
    "colab": {
     "base_uri": "https://localhost:8080/"
    },
    "id": "H-6NEGAW44c3",
    "outputId": "c55788d9-66cc-4268-809d-de63dcf08c05"
   },
   "outputs": [
    {
     "name": "stdout",
     "output_type": "stream",
     "text": [
      "Shape of X :  (48270, 250)\n",
      "Shape of Y :  (48270, 4)\n"
     ]
    }
   ],
   "source": [
    "print('Shape of X : ',X.shape)\n",
    "print('Shape of Y : ',Y.shape)"
   ]
  },
  {
   "cell_type": "code",
   "execution_count": 61,
   "metadata": {
    "colab": {
     "base_uri": "https://localhost:8080/"
    },
    "id": "3H_P_Bdx2_rt",
    "outputId": "2870bd82-8708-47fb-c8d9-788b16b6585b"
   },
   "outputs": [
    {
     "name": "stdout",
     "output_type": "stream",
     "text": [
      "(38616, 250) (38616, 4)\n",
      "(9654, 250) (9654, 4)\n"
     ]
    }
   ],
   "source": [
    "from sklearn.model_selection import train_test_split\n",
    "X_train, X_test, Y_train, Y_test = train_test_split(X,Y, test_size = 0.2, random_state = 42)\n",
    "print(X_train.shape,Y_train.shape)\n",
    "print(X_test.shape,Y_test.shape)"
   ]
  },
  {
   "cell_type": "markdown",
   "metadata": {
    "id": "PBgY6wU3k4Lt"
   },
   "source": [
    "## Model using RNN"
   ]
  },
  {
   "cell_type": "code",
   "execution_count": null,
   "metadata": {
    "id": "jXbEzmqPk0qO"
   },
   "outputs": [],
   "source": [
    "from tensorflow.keras.models import Sequential\n",
    "from tensorflow.keras.layers import Dense, Embedding, SimpleRNN, SpatialDropout1D"
   ]
  },
  {
   "cell_type": "code",
   "execution_count": null,
   "metadata": {
    "colab": {
     "base_uri": "https://localhost:8080/"
    },
    "id": "8d54LjTBk0vu",
    "outputId": "e8616210-b1ac-4c52-9d54-454217a0f702"
   },
   "outputs": [
    {
     "name": "stdout",
     "output_type": "stream",
     "text": [
      "Model: \"sequential\"\n",
      "_________________________________________________________________\n",
      " Layer (type)                Output Shape              Param #   \n",
      "=================================================================\n",
      " embedding (Embedding)       (None, 250, 100)          5000000   \n",
      "                                                                 \n",
      " spatial_dropout1d (SpatialD  (None, 250, 100)         0         \n",
      " ropout1D)                                                       \n",
      "                                                                 \n",
      " simple_rnn (SimpleRNN)      (None, 100)               20100     \n",
      "                                                                 \n",
      " dense (Dense)               (None, 4)                 404       \n",
      "                                                                 \n",
      "=================================================================\n",
      "Total params: 5,020,504\n",
      "Trainable params: 5,020,504\n",
      "Non-trainable params: 0\n",
      "_________________________________________________________________\n",
      "None\n"
     ]
    }
   ],
   "source": [
    "model = Sequential()\n",
    "model.add(Embedding(MAX_NB_WORDS, EMBEDDING_DIM, input_length=X.shape[1]))\n",
    "model.add(SpatialDropout1D(0.2))\n",
    "model.add(SimpleRNN(100, dropout=0.2, recurrent_dropout=0.2))\n",
    "model.add(Dense(4, activation='softmax'))\n",
    "model.compile(loss='categorical_crossentropy', optimizer='adam', metrics=['accuracy'])\n",
    "print(model.summary())"
   ]
  },
  {
   "cell_type": "code",
   "execution_count": null,
   "metadata": {
    "colab": {
     "base_uri": "https://localhost:8080/"
    },
    "id": "qU2GrRKwk004",
    "outputId": "748a3bd4-0258-4170-a97e-cc365fd45504"
   },
   "outputs": [
    {
     "name": "stdout",
     "output_type": "stream",
     "text": [
      "Epoch 1/5\n",
      "818/818 [==============================] - 183s 221ms/step - loss: 1.0531 - accuracy: 0.5555 - val_loss: 1.0096 - val_accuracy: 0.5723\n",
      "Epoch 2/5\n",
      "818/818 [==============================] - 181s 222ms/step - loss: 0.8706 - accuracy: 0.6634 - val_loss: 0.7633 - val_accuracy: 0.7329\n",
      "Epoch 3/5\n",
      "818/818 [==============================] - 181s 222ms/step - loss: 0.8324 - accuracy: 0.6867 - val_loss: 0.8850 - val_accuracy: 0.6931\n",
      "Epoch 4/5\n",
      "818/818 [==============================] - 185s 227ms/step - loss: 0.9367 - accuracy: 0.6238 - val_loss: 0.8269 - val_accuracy: 0.6975\n",
      "Epoch 5/5\n",
      "818/818 [==============================] - 181s 222ms/step - loss: 0.9157 - accuracy: 0.6423 - val_loss: 0.9870 - val_accuracy: 0.6236\n"
     ]
    },
    {
     "data": {
      "text/plain": [
       "<keras.callbacks.History at 0x7f37eb21ed10>"
      ]
     },
     "execution_count": 44,
     "metadata": {},
     "output_type": "execute_result"
    }
   ],
   "source": [
    "### Finally Training\n",
    "model.fit(X_train,Y_train,validation_data=(X_test,Y_test),epochs=5,batch_size=64)"
   ]
  },
  {
   "cell_type": "code",
   "execution_count": null,
   "metadata": {
    "colab": {
     "base_uri": "https://localhost:8080/"
    },
    "id": "5Z9EHDB_k06y",
    "outputId": "5049c34d-5d73-4822-df40-20ba2093cd3c"
   },
   "outputs": [
    {
     "name": "stdout",
     "output_type": "stream",
     "text": [
      "409/409 [==============================] - 9s 21ms/step - loss: 0.9870 - accuracy: 0.6236\n"
     ]
    },
    {
     "data": {
      "text/plain": [
       "[0.987004816532135, 0.6235662698745728]"
      ]
     },
     "execution_count": 45,
     "metadata": {},
     "output_type": "execute_result"
    }
   ],
   "source": [
    "model.evaluate(X_test,Y_test)"
   ]
  },
  {
   "cell_type": "markdown",
   "metadata": {
    "id": "RUNw7XVHi5LH"
   },
   "source": [
    "## Model using LSTM"
   ]
  },
  {
   "cell_type": "code",
   "execution_count": 78,
   "metadata": {
    "id": "5_pCDoT3CKPq"
   },
   "outputs": [],
   "source": [
    "from tensorflow.keras.models import Sequential\n",
    "from tensorflow.keras.layers import Dense, Embedding, LSTM, SpatialDropout1D"
   ]
  },
  {
   "cell_type": "code",
   "execution_count": 79,
   "metadata": {
    "colab": {
     "base_uri": "https://localhost:8080/"
    },
    "id": "gCqDMuImDB-i",
    "outputId": "10f5b8f4-f61f-48be-b3f3-86c5ac040200"
   },
   "outputs": [
    {
     "data": {
      "text/plain": [
       "250"
      ]
     },
     "execution_count": 79,
     "metadata": {},
     "output_type": "execute_result"
    }
   ],
   "source": [
    "X.shape[1]"
   ]
  },
  {
   "cell_type": "code",
   "execution_count": 80,
   "metadata": {
    "colab": {
     "base_uri": "https://localhost:8080/"
    },
    "id": "lVhUtisx3n4g",
    "outputId": "fd36fb5b-ed0f-4956-cace-f9abd560741f"
   },
   "outputs": [
    {
     "name": "stdout",
     "output_type": "stream",
     "text": [
      "Model: \"sequential_3\"\n",
      "_________________________________________________________________\n",
      " Layer (type)                Output Shape              Param #   \n",
      "=================================================================\n",
      " embedding_3 (Embedding)     (None, 250, 100)          5000000   \n",
      "                                                                 \n",
      " spatial_dropout1d_3 (Spatia  (None, 250, 100)         0         \n",
      " lDropout1D)                                                     \n",
      "                                                                 \n",
      " lstm_3 (LSTM)               (None, 100)               80400     \n",
      "                                                                 \n",
      " dense_3 (Dense)             (None, 4)                 404       \n",
      "                                                                 \n",
      "=================================================================\n",
      "Total params: 5,080,804\n",
      "Trainable params: 5,080,804\n",
      "Non-trainable params: 0\n",
      "_________________________________________________________________\n",
      "None\n"
     ]
    }
   ],
   "source": [
    "model = Sequential()\n",
    "model.add(Embedding(MAX_NB_WORDS, EMBEDDING_DIM, input_length=X.shape[1]))\n",
    "model.add(SpatialDropout1D(0.2))\n",
    "model.add(LSTM(100, dropout=0.2, recurrent_dropout=0.2))\n",
    "model.add(Dense(4, activation='softmax'))\n",
    "model.compile(loss='categorical_crossentropy', optimizer='adam', metrics=['accuracy'])\n",
    "print(model.summary())"
   ]
  },
  {
   "cell_type": "code",
   "execution_count": 81,
   "metadata": {
    "colab": {
     "base_uri": "https://localhost:8080/"
    },
    "id": "wcJKVhL54I8-",
    "outputId": "039e207e-9e71-4670-fa6f-29f96809727c"
   },
   "outputs": [
    {
     "name": "stdout",
     "output_type": "stream",
     "text": [
      "Epoch 1/5\n",
      "604/604 [==============================] - 484s 797ms/step - loss: 0.6804 - accuracy: 0.7553 - val_loss: 0.5793 - val_accuracy: 0.7990\n",
      "Epoch 2/5\n",
      "604/604 [==============================] - 480s 794ms/step - loss: 0.4559 - accuracy: 0.8537 - val_loss: 0.4931 - val_accuracy: 0.8472\n",
      "Epoch 3/5\n",
      "604/604 [==============================] - 484s 801ms/step - loss: 0.3693 - accuracy: 0.8845 - val_loss: 0.4517 - val_accuracy: 0.8498\n",
      "Epoch 4/5\n",
      "604/604 [==============================] - 481s 797ms/step - loss: 0.3213 - accuracy: 0.8989 - val_loss: 0.5979 - val_accuracy: 0.8231\n",
      "Epoch 5/5\n",
      "604/604 [==============================] - 483s 799ms/step - loss: 0.3105 - accuracy: 0.9007 - val_loss: 0.7200 - val_accuracy: 0.7798\n"
     ]
    },
    {
     "data": {
      "text/plain": [
       "<keras.callbacks.History at 0x7fdf6637d550>"
      ]
     },
     "execution_count": 81,
     "metadata": {},
     "output_type": "execute_result"
    }
   ],
   "source": [
    "### Finally Training\n",
    "model.fit(X_train,Y_train,validation_data=(X_test,Y_test),epochs=5,batch_size=64)"
   ]
  },
  {
   "cell_type": "code",
   "execution_count": 82,
   "metadata": {
    "colab": {
     "base_uri": "https://localhost:8080/"
    },
    "id": "3CILqqyd4JAt",
    "outputId": "3c1e3a39-7e5c-46eb-a5e0-8fd0d7b9390c"
   },
   "outputs": [
    {
     "name": "stdout",
     "output_type": "stream",
     "text": [
      "302/302 [==============================] - 22s 72ms/step - loss: 0.7200 - accuracy: 0.7798\n"
     ]
    },
    {
     "data": {
      "text/plain": [
       "[0.7199808955192566, 0.779780387878418]"
      ]
     },
     "execution_count": 82,
     "metadata": {},
     "output_type": "execute_result"
    }
   ],
   "source": [
    "model.evaluate(X_test,Y_test)"
   ]
  },
  {
   "cell_type": "code",
   "execution_count": 83,
   "metadata": {
    "colab": {
     "base_uri": "https://localhost:8080/"
    },
    "id": "vLKjJNhr4JE_",
    "outputId": "d3080011-e9b1-4041-d9b8-8d1faae8efb6"
   },
   "outputs": [
    {
     "data": {
      "text/plain": [
       "array([1, 3, 1, ..., 3, 1, 2])"
      ]
     },
     "execution_count": 83,
     "metadata": {},
     "output_type": "execute_result"
    }
   ],
   "source": [
    "y_pred=np.argmax(model.predict(X_test),axis=1)\n",
    "y_pred"
   ]
  },
  {
   "cell_type": "code",
   "execution_count": 84,
   "metadata": {
    "colab": {
     "base_uri": "https://localhost:8080/"
    },
    "id": "IfEEq5R1PiZd",
    "outputId": "3c611f5d-b585-4280-d8e1-f9030ddc0b4b"
   },
   "outputs": [
    {
     "data": {
      "text/plain": [
       "3"
      ]
     },
     "execution_count": 84,
     "metadata": {},
     "output_type": "execute_result"
    }
   ],
   "source": [
    "y_pred[1]"
   ]
  },
  {
   "cell_type": "code",
   "execution_count": 85,
   "metadata": {
    "colab": {
     "base_uri": "https://localhost:8080/"
    },
    "id": "yH8nlg5o5Mjp",
    "outputId": "42eb57a2-85db-426c-80ed-dc283bcdf3fe"
   },
   "outputs": [
    {
     "name": "stdout",
     "output_type": "stream",
     "text": [
      "[[0.08778185 0.84107107 0.00523186 0.06591524]] Credit Card Related\n"
     ]
    }
   ],
   "source": [
    "new_complaint = ['I am a victim of identity theft and someone stole my identity and personal information to open up a Visa credit card account with Bank of America. The following Bank of America Visa credit card account do not belong to me : XXXX.']\n",
    "seq = tokenizer.texts_to_sequences(new_complaint)\n",
    "padded = pad_sequences(seq, maxlen=MAX_SEQUENCE_LENGTH)\n",
    "pred = model.predict(padded)\n",
    "labels = ['Bank Services','Credit Card Related','Loan Related','Others Services']\n",
    "print(pred, labels[np.argmax(pred)])"
   ]
  },
  {
   "cell_type": "code",
   "execution_count": 86,
   "metadata": {
    "colab": {
     "base_uri": "https://localhost:8080/"
    },
    "id": "geU0oFLl6iqe",
    "outputId": "4c7b59fc-a05a-4c52-ac2f-edd54b41e65d"
   },
   "outputs": [
    {
     "name": "stdout",
     "output_type": "stream",
     "text": [
      "[[0.00631927 0.00500769 0.02745851 0.96121454]] Others Services\n"
     ]
    }
   ],
   "source": [
    "# This should give 'Other Services'\n",
    "\n",
    "new_complaint = ['I am very disappointed that the CFPB did not help to resolve this fraudulant loan. # XXXX between XXXX XXXX and XXXX, FF ( AKA ) One West. Case # XXXX with CFPB.']\n",
    "seq = tokenizer.texts_to_sequences(new_complaint)\n",
    "padded = pad_sequences(seq, maxlen=MAX_SEQUENCE_LENGTH)\n",
    "pred = model.predict(padded)\n",
    "labels = ['Bank Services','Credit Card Related','Loan Related','Others Services']\n",
    "print(pred, labels[np.argmax(pred)])"
   ]
  },
  {
   "cell_type": "code",
   "execution_count": 88,
   "metadata": {
    "colab": {
     "base_uri": "https://localhost:8080/"
    },
    "id": "rEMQ72LDTUxU",
    "outputId": "07430020-289a-4295-f524-f752bffdd66a"
   },
   "outputs": [
    {
     "name": "stdout",
     "output_type": "stream",
     "text": [
      "[[0.12367404 0.7201883  0.02600319 0.13013451]] Credit Card Related\n"
     ]
    }
   ],
   "source": [
    "# This should give 'Credit Card Related'\n",
    "\n",
    "new_complaint = ['opened bank america credit card 1520 year ago interest account low time 7 year ago got notice interest changing going prime plus 2 thinkprime going back several bank option close account stay old term cond lock interest rate till paid offso new term cond acceptingi closed account made payment since time never latemy history show thisi month past 5 year plus schedule payment online ea month get conformation number payment scheduledon account done 5years got conformation number transaction payment due get call home rude man # caller id say calling card service payment late late charge meant term cond charged irs getting sent statementi thought scam tell owned bank america still nasty threaten 7days past duei got nasty eplained scheduled payment conformation # careafter 1hr plus haurasing hung called bank america customer service 65hrs later phone people get told internet dept saw scheduled payment said bank america wrong 100 know fi problemapparently time week put new billing system system update took account put un active position payment scheduled could find account apply paymenti made yet new system could apply paymenti way knowing find account way ask fi issue idea fi problem people installed new updated system input account could seeni suppose get call someone corp level net day address problem never happened spend another 5 hour phone way phone going call home phone put hold speak supervisor 2hrs later never happened called cell phone got supervisor nothing 3 hoursi asked 1thing never got asked 2500 credit late fee refused kept reading note put hold come back nothing tried eplain needed done would listen 3 hour 12 hour getting filling complaint also concern nothave spoken attorney yet believe right violated get call threaten spoke told az internet dept bank america fault needed fi told payment late fee refuse service refuse wave fee faulti conformation # payment always made time never late yet getting called home threaten bank america wrong paying nowthis wrong really feel violated wayi also found supervisor spoke never recorded ever spoke call center scarolinaand call never never put note spoke get right allthank time']\n",
    "seq = tokenizer.texts_to_sequences(new_complaint)\n",
    "padded = pad_sequences(seq, maxlen=MAX_SEQUENCE_LENGTH)\n",
    "pred = model.predict(padded)\n",
    "labels = ['Bank Services','Credit Card Related','Loan Related','Others Services']\n",
    "print(pred, labels[np.argmax(pred)])"
   ]
  },
  {
   "cell_type": "code",
   "execution_count": null,
   "metadata": {
    "id": "o56NNcgjTqWy"
   },
   "outputs": [],
   "source": []
  }
 ],
 "metadata": {
  "accelerator": "GPU",
  "colab": {
   "collapsed_sections": [],
   "name": "Consumer Complaints Classification using RNN and LSTM.ipynb",
   "provenance": []
  },
  "kernelspec": {
   "display_name": "Python 3",
   "language": "python",
   "name": "python3"
  },
  "language_info": {
   "codemirror_mode": {
    "name": "ipython",
    "version": 3
   },
   "file_extension": ".py",
   "mimetype": "text/x-python",
   "name": "python",
   "nbconvert_exporter": "python",
   "pygments_lexer": "ipython3",
   "version": "3.8.5"
  }
 },
 "nbformat": 4,
 "nbformat_minor": 1
}
